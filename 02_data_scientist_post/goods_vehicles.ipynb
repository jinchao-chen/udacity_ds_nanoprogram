{
 "cells": [
  {
   "cell_type": "markdown",
   "metadata": {
    "colab_type": "text",
    "id": "aPLdj88WjeU_"
   },
   "source": [
    "# motivation\n",
    "\n",
    "I spent two hours daily driving on one of the busiest motorway, when commuting to work was still a norm. For a novice driver, how to safely drive along goods vehicles was one of first lessons I learnt after leaving the driving school. When I came across this dataset on cbs website, it immediately attracted my attenion as it reminded me of the days when the 'lorry drivers' kept me challenged and most of the time provided me with accompany.\n",
    "\n",
    "- is there any link between goods vehicle and Dutch economy\n",
    "- what is the average age of goods vehicle? Is it any lower than a private car?\n",
    "- what is the service life of a lorry, how does it compare to a passenager car? "
   ]
  },
  {
   "cell_type": "code",
   "execution_count": 50,
   "metadata": {
    "colab": {
     "base_uri": "https://localhost:8080/",
     "height": 139
    },
    "colab_type": "code",
    "id": "SwD-wWg7jeVA",
    "outputId": "b8698783-a0c1-4224-c822-254d8c7ccf91"
   },
   "outputs": [],
   "source": [
    "import cbsodata\n",
    "from pathlib import Path\n",
    "import pandas as pd\n",
    "import seaborn as sns\n",
    "from matplotlib import pyplot as plt\n",
    "sns.set_palette(\"husl\")"
   ]
  },
  {
   "cell_type": "code",
   "execution_count": 51,
   "metadata": {
    "colab": {},
    "colab_type": "code",
    "id": "gN1Xu9bQjeVE",
    "scrolled": false
   },
   "outputs": [],
   "source": [
    "# Downloading table list from cbs portal\n",
    "df = pd.DataFrame(cbsodata.get_data('84651ENG'))"
   ]
  },
  {
   "cell_type": "code",
   "execution_count": 52,
   "metadata": {
    "colab": {
     "base_uri": "https://localhost:8080/",
     "height": 309
    },
    "colab_type": "code",
    "id": "phPw-XpTjeVI",
    "outputId": "5fbe43fe-ee06-40e5-cd81-a4364e052107",
    "scrolled": true
   },
   "outputs": [
    {
     "data": {
      "text/html": [
       "<div>\n",
       "<style scoped>\n",
       "    .dataframe tbody tr th:only-of-type {\n",
       "        vertical-align: middle;\n",
       "    }\n",
       "\n",
       "    .dataframe tbody tr th {\n",
       "        vertical-align: top;\n",
       "    }\n",
       "\n",
       "    .dataframe thead th {\n",
       "        text-align: right;\n",
       "    }\n",
       "</style>\n",
       "<table border=\"1\" class=\"dataframe\">\n",
       "  <thead>\n",
       "    <tr style=\"text-align: right;\">\n",
       "      <th></th>\n",
       "      <th>ID</th>\n",
       "      <th>LorriesAndRoadTractors</th>\n",
       "      <th>YearsOfConstruction</th>\n",
       "      <th>Periods</th>\n",
       "      <th>TotalKilometresInTheNetherlands_1</th>\n",
       "      <th>KilometresByDutchVehicles_2</th>\n",
       "      <th>KilometresByForeignVehicles_3</th>\n",
       "      <th>TotalKilometresByDutchVehicles_4</th>\n",
       "      <th>KilometresInTheNetherlands_5</th>\n",
       "      <th>KilometresAbroad_6</th>\n",
       "      <th>TotalAverageAnnualKilometres_7</th>\n",
       "      <th>AverageAnnualKilometresInNetherlands_8</th>\n",
       "      <th>AverageAnnualKilometresAbroad_9</th>\n",
       "      <th>DutchGoodsVehiclesInUse_10</th>\n",
       "    </tr>\n",
       "  </thead>\n",
       "  <tbody>\n",
       "    <tr>\n",
       "      <th>0</th>\n",
       "      <td>0</td>\n",
       "      <td>Lorries and road tractors</td>\n",
       "      <td>Total of all construction years</td>\n",
       "      <td>2001</td>\n",
       "      <td>6592.1</td>\n",
       "      <td>6014.7</td>\n",
       "      <td>577.5</td>\n",
       "      <td>9869.7</td>\n",
       "      <td>6014.7</td>\n",
       "      <td>3855.1</td>\n",
       "      <td>58913.0</td>\n",
       "      <td>35902.0</td>\n",
       "      <td>23011.0</td>\n",
       "      <td>167530.0</td>\n",
       "    </tr>\n",
       "    <tr>\n",
       "      <th>1</th>\n",
       "      <td>1</td>\n",
       "      <td>Lorries and road tractors</td>\n",
       "      <td>Total of all construction years</td>\n",
       "      <td>2002</td>\n",
       "      <td>6600.8</td>\n",
       "      <td>5999.6</td>\n",
       "      <td>601.1</td>\n",
       "      <td>9973.7</td>\n",
       "      <td>5999.6</td>\n",
       "      <td>3974.1</td>\n",
       "      <td>59846.0</td>\n",
       "      <td>36000.0</td>\n",
       "      <td>23846.0</td>\n",
       "      <td>166657.0</td>\n",
       "    </tr>\n",
       "    <tr>\n",
       "      <th>2</th>\n",
       "      <td>2</td>\n",
       "      <td>Lorries and road tractors</td>\n",
       "      <td>Total of all construction years</td>\n",
       "      <td>2003</td>\n",
       "      <td>6610.0</td>\n",
       "      <td>6025.4</td>\n",
       "      <td>584.6</td>\n",
       "      <td>10026.9</td>\n",
       "      <td>6025.4</td>\n",
       "      <td>4001.5</td>\n",
       "      <td>61150.0</td>\n",
       "      <td>36746.0</td>\n",
       "      <td>24403.0</td>\n",
       "      <td>163974.0</td>\n",
       "    </tr>\n",
       "    <tr>\n",
       "      <th>3</th>\n",
       "      <td>3</td>\n",
       "      <td>Lorries and road tractors</td>\n",
       "      <td>Total of all construction years</td>\n",
       "      <td>2004</td>\n",
       "      <td>6684.5</td>\n",
       "      <td>6060.0</td>\n",
       "      <td>624.5</td>\n",
       "      <td>10070.7</td>\n",
       "      <td>6060.0</td>\n",
       "      <td>4010.7</td>\n",
       "      <td>61637.0</td>\n",
       "      <td>37090.0</td>\n",
       "      <td>24547.0</td>\n",
       "      <td>163387.0</td>\n",
       "    </tr>\n",
       "    <tr>\n",
       "      <th>4</th>\n",
       "      <td>4</td>\n",
       "      <td>Lorries and road tractors</td>\n",
       "      <td>Total of all construction years</td>\n",
       "      <td>2005</td>\n",
       "      <td>6797.2</td>\n",
       "      <td>6128.7</td>\n",
       "      <td>668.5</td>\n",
       "      <td>10181.2</td>\n",
       "      <td>6128.7</td>\n",
       "      <td>4052.5</td>\n",
       "      <td>62792.0</td>\n",
       "      <td>37798.0</td>\n",
       "      <td>24994.0</td>\n",
       "      <td>162142.0</td>\n",
       "    </tr>\n",
       "  </tbody>\n",
       "</table>\n",
       "</div>"
      ],
      "text/plain": [
       "   ID     LorriesAndRoadTractors              YearsOfConstruction Periods  \\\n",
       "0   0  Lorries and road tractors  Total of all construction years    2001   \n",
       "1   1  Lorries and road tractors  Total of all construction years    2002   \n",
       "2   2  Lorries and road tractors  Total of all construction years    2003   \n",
       "3   3  Lorries and road tractors  Total of all construction years    2004   \n",
       "4   4  Lorries and road tractors  Total of all construction years    2005   \n",
       "\n",
       "   TotalKilometresInTheNetherlands_1  KilometresByDutchVehicles_2  \\\n",
       "0                             6592.1                       6014.7   \n",
       "1                             6600.8                       5999.6   \n",
       "2                             6610.0                       6025.4   \n",
       "3                             6684.5                       6060.0   \n",
       "4                             6797.2                       6128.7   \n",
       "\n",
       "   KilometresByForeignVehicles_3  TotalKilometresByDutchVehicles_4  \\\n",
       "0                          577.5                            9869.7   \n",
       "1                          601.1                            9973.7   \n",
       "2                          584.6                           10026.9   \n",
       "3                          624.5                           10070.7   \n",
       "4                          668.5                           10181.2   \n",
       "\n",
       "   KilometresInTheNetherlands_5  KilometresAbroad_6  \\\n",
       "0                        6014.7              3855.1   \n",
       "1                        5999.6              3974.1   \n",
       "2                        6025.4              4001.5   \n",
       "3                        6060.0              4010.7   \n",
       "4                        6128.7              4052.5   \n",
       "\n",
       "   TotalAverageAnnualKilometres_7  AverageAnnualKilometresInNetherlands_8  \\\n",
       "0                         58913.0                                 35902.0   \n",
       "1                         59846.0                                 36000.0   \n",
       "2                         61150.0                                 36746.0   \n",
       "3                         61637.0                                 37090.0   \n",
       "4                         62792.0                                 37798.0   \n",
       "\n",
       "   AverageAnnualKilometresAbroad_9  DutchGoodsVehiclesInUse_10  \n",
       "0                          23011.0                    167530.0  \n",
       "1                          23846.0                    166657.0  \n",
       "2                          24403.0                    163974.0  \n",
       "3                          24547.0                    163387.0  \n",
       "4                          24994.0                    162142.0  "
      ]
     },
     "execution_count": 52,
     "metadata": {},
     "output_type": "execute_result"
    }
   ],
   "source": [
    "df.head()"
   ]
  },
  {
   "cell_type": "code",
   "execution_count": 53,
   "metadata": {
    "colab": {
     "base_uri": "https://localhost:8080/",
     "height": 374
    },
    "colab_type": "code",
    "id": "6dwAglqLjeVL",
    "outputId": "9a82cded-485b-4895-c2bf-7d73d215c55a"
   },
   "outputs": [
    {
     "name": "stdout",
     "output_type": "stream",
     "text": [
      "<class 'pandas.core.frame.DataFrame'>\n",
      "RangeIndex: 1836 entries, 0 to 1835\n",
      "Data columns (total 14 columns):\n",
      " #   Column                                  Non-Null Count  Dtype  \n",
      "---  ------                                  --------------  -----  \n",
      " 0   ID                                      1836 non-null   int64  \n",
      " 1   LorriesAndRoadTractors                  1836 non-null   object \n",
      " 2   YearsOfConstruction                     1836 non-null   object \n",
      " 3   Periods                                 1836 non-null   object \n",
      " 4   TotalKilometresInTheNetherlands_1       954 non-null    float64\n",
      " 5   KilometresByDutchVehicles_2             954 non-null    float64\n",
      " 6   KilometresByForeignVehicles_3           954 non-null    float64\n",
      " 7   TotalKilometresByDutchVehicles_4        954 non-null    float64\n",
      " 8   KilometresInTheNetherlands_5            954 non-null    float64\n",
      " 9   KilometresAbroad_6                      954 non-null    float64\n",
      " 10  TotalAverageAnnualKilometres_7          954 non-null    float64\n",
      " 11  AverageAnnualKilometresInNetherlands_8  954 non-null    float64\n",
      " 12  AverageAnnualKilometresAbroad_9         954 non-null    float64\n",
      " 13  DutchGoodsVehiclesInUse_10              954 non-null    float64\n",
      "dtypes: float64(10), int64(1), object(3)\n",
      "memory usage: 200.9+ KB\n"
     ]
    }
   ],
   "source": [
    "df.info()"
   ]
  },
  {
   "cell_type": "markdown",
   "metadata": {},
   "source": [
    "imported table contains 14 columns. \n",
    "\n",
    "3 categorical data for goods vechile type, years of contruction and a time stamp (periods)\n",
    "\n",
    "10 columns numerical data for the vehicle kilometers"
   ]
  },
  {
   "cell_type": "code",
   "execution_count": 54,
   "metadata": {
    "colab": {
     "base_uri": "https://localhost:8080/",
     "height": 902
    },
    "colab_type": "code",
    "id": "VftV61bcjeVP",
    "outputId": "cfa4171a-2c9a-4122-b9e3-dd87f1ea1cad"
   },
   "outputs": [
    {
     "data": {
      "text/html": [
       "<div>\n",
       "<style scoped>\n",
       "    .dataframe tbody tr th:only-of-type {\n",
       "        vertical-align: middle;\n",
       "    }\n",
       "\n",
       "    .dataframe tbody tr th {\n",
       "        vertical-align: top;\n",
       "    }\n",
       "\n",
       "    .dataframe thead th {\n",
       "        text-align: right;\n",
       "    }\n",
       "</style>\n",
       "<table border=\"1\" class=\"dataframe\">\n",
       "  <thead>\n",
       "    <tr style=\"text-align: right;\">\n",
       "      <th></th>\n",
       "      <th>Key</th>\n",
       "      <th>Title</th>\n",
       "      <th>Description</th>\n",
       "    </tr>\n",
       "  </thead>\n",
       "  <tbody>\n",
       "    <tr>\n",
       "      <th>0</th>\n",
       "      <td>LorriesAndRoadTractors</td>\n",
       "      <td>Lorries and road tractors</td>\n",
       "      <td></td>\n",
       "    </tr>\n",
       "    <tr>\n",
       "      <th>1</th>\n",
       "      <td>YearsOfConstruction</td>\n",
       "      <td>Years of construction</td>\n",
       "      <td></td>\n",
       "    </tr>\n",
       "    <tr>\n",
       "      <th>2</th>\n",
       "      <td>Periods</td>\n",
       "      <td>Periods</td>\n",
       "      <td></td>\n",
       "    </tr>\n",
       "    <tr>\n",
       "      <th>3</th>\n",
       "      <td></td>\n",
       "      <td>Kilometres in the Netherlands</td>\n",
       "      <td>The total distance travelled (in km) in the Ne...</td>\n",
       "    </tr>\n",
       "    <tr>\n",
       "      <th>4</th>\n",
       "      <td>TotalKilometresInTheNetherlands_1</td>\n",
       "      <td>Total kilometres in the Netherlands</td>\n",
       "      <td>The total distance travelled (in km) in the Ne...</td>\n",
       "    </tr>\n",
       "    <tr>\n",
       "      <th>5</th>\n",
       "      <td>KilometresByDutchVehicles_2</td>\n",
       "      <td>Kilometres by Dutch vehicles</td>\n",
       "      <td>None</td>\n",
       "    </tr>\n",
       "    <tr>\n",
       "      <th>6</th>\n",
       "      <td>KilometresByForeignVehicles_3</td>\n",
       "      <td>Kilometres by foreign vehicles</td>\n",
       "      <td>The total distance travelled (in km) by foreig...</td>\n",
       "    </tr>\n",
       "    <tr>\n",
       "      <th>7</th>\n",
       "      <td></td>\n",
       "      <td>Kilometres by Dutch vehicles</td>\n",
       "      <td>The total distance travelled (in km) in the Ne...</td>\n",
       "    </tr>\n",
       "    <tr>\n",
       "      <th>8</th>\n",
       "      <td>TotalKilometresByDutchVehicles_4</td>\n",
       "      <td>Total kilometres by Dutch vehicles</td>\n",
       "      <td>The total distance travelled (in km) in the Ne...</td>\n",
       "    </tr>\n",
       "    <tr>\n",
       "      <th>9</th>\n",
       "      <td>KilometresInTheNetherlands_5</td>\n",
       "      <td>Kilometres in the Netherlands</td>\n",
       "      <td>None</td>\n",
       "    </tr>\n",
       "    <tr>\n",
       "      <th>10</th>\n",
       "      <td>KilometresAbroad_6</td>\n",
       "      <td>Kilometres abroad</td>\n",
       "      <td>The total distance travelled (in km) abroad by...</td>\n",
       "    </tr>\n",
       "    <tr>\n",
       "      <th>11</th>\n",
       "      <td></td>\n",
       "      <td>Average annual kilometres</td>\n",
       "      <td>The average number of kilometres per year trav...</td>\n",
       "    </tr>\n",
       "    <tr>\n",
       "      <th>12</th>\n",
       "      <td>TotalAverageAnnualKilometres_7</td>\n",
       "      <td>Total average annual kilometres</td>\n",
       "      <td>The average number of kilometres per year trav...</td>\n",
       "    </tr>\n",
       "    <tr>\n",
       "      <th>13</th>\n",
       "      <td>AverageAnnualKilometresInNetherlands_8</td>\n",
       "      <td>Average annual kilometres in Netherlands</td>\n",
       "      <td>The average number of kilometres per year trav...</td>\n",
       "    </tr>\n",
       "    <tr>\n",
       "      <th>14</th>\n",
       "      <td>AverageAnnualKilometresAbroad_9</td>\n",
       "      <td>Average annual kilometres abroad</td>\n",
       "      <td>The average number of kilometres per year trav...</td>\n",
       "    </tr>\n",
       "    <tr>\n",
       "      <th>15</th>\n",
       "      <td>DutchGoodsVehiclesInUse_10</td>\n",
       "      <td>Dutch goods vehicles in use</td>\n",
       "      <td>All lorries and road tractors with a valid Dut...</td>\n",
       "    </tr>\n",
       "  </tbody>\n",
       "</table>\n",
       "</div>"
      ],
      "text/plain": [
       "                                       Key  \\\n",
       "0                   LorriesAndRoadTractors   \n",
       "1                      YearsOfConstruction   \n",
       "2                                  Periods   \n",
       "3                                            \n",
       "4        TotalKilometresInTheNetherlands_1   \n",
       "5              KilometresByDutchVehicles_2   \n",
       "6            KilometresByForeignVehicles_3   \n",
       "7                                            \n",
       "8         TotalKilometresByDutchVehicles_4   \n",
       "9             KilometresInTheNetherlands_5   \n",
       "10                      KilometresAbroad_6   \n",
       "11                                           \n",
       "12          TotalAverageAnnualKilometres_7   \n",
       "13  AverageAnnualKilometresInNetherlands_8   \n",
       "14         AverageAnnualKilometresAbroad_9   \n",
       "15              DutchGoodsVehiclesInUse_10   \n",
       "\n",
       "                                       Title  \\\n",
       "0                  Lorries and road tractors   \n",
       "1                      Years of construction   \n",
       "2                                    Periods   \n",
       "3              Kilometres in the Netherlands   \n",
       "4        Total kilometres in the Netherlands   \n",
       "5               Kilometres by Dutch vehicles   \n",
       "6             Kilometres by foreign vehicles   \n",
       "7               Kilometres by Dutch vehicles   \n",
       "8         Total kilometres by Dutch vehicles   \n",
       "9              Kilometres in the Netherlands   \n",
       "10                         Kilometres abroad   \n",
       "11                 Average annual kilometres   \n",
       "12           Total average annual kilometres   \n",
       "13  Average annual kilometres in Netherlands   \n",
       "14          Average annual kilometres abroad   \n",
       "15               Dutch goods vehicles in use   \n",
       "\n",
       "                                          Description  \n",
       "0                                                      \n",
       "1                                                      \n",
       "2                                                      \n",
       "3   The total distance travelled (in km) in the Ne...  \n",
       "4   The total distance travelled (in km) in the Ne...  \n",
       "5                                                None  \n",
       "6   The total distance travelled (in km) by foreig...  \n",
       "7   The total distance travelled (in km) in the Ne...  \n",
       "8   The total distance travelled (in km) in the Ne...  \n",
       "9                                                None  \n",
       "10  The total distance travelled (in km) abroad by...  \n",
       "11  The average number of kilometres per year trav...  \n",
       "12  The average number of kilometres per year trav...  \n",
       "13  The average number of kilometres per year trav...  \n",
       "14  The average number of kilometres per year trav...  \n",
       "15  All lorries and road tractors with a valid Dut...  "
      ]
     },
     "execution_count": 54,
     "metadata": {},
     "output_type": "execute_result"
    }
   ],
   "source": [
    "# Downloading metadata\n",
    "metadata_data_properties = pd.DataFrame(cbsodata.get_meta('84651ENG', 'DataProperties'))\n",
    "metadata_data_properties[['Key','Title','Description']]"
   ]
  },
  {
   "cell_type": "markdown",
   "metadata": {
    "colab_type": "text",
    "id": "Fn1RjfQLjeVS"
   },
   "source": [
    "# pre-processing categorical data "
   ]
  },
  {
   "cell_type": "code",
   "execution_count": 55,
   "metadata": {
    "colab": {
     "base_uri": "https://localhost:8080/",
     "height": 173
    },
    "colab_type": "code",
    "id": "tcZwZt8cjeVT",
    "outputId": "c9d94851-ed94-4ae0-bcb6-972af3e95232",
    "scrolled": true
   },
   "outputs": [
    {
     "data": {
      "text/html": [
       "<div>\n",
       "<style scoped>\n",
       "    .dataframe tbody tr th:only-of-type {\n",
       "        vertical-align: middle;\n",
       "    }\n",
       "\n",
       "    .dataframe tbody tr th {\n",
       "        vertical-align: top;\n",
       "    }\n",
       "\n",
       "    .dataframe thead th {\n",
       "        text-align: right;\n",
       "    }\n",
       "</style>\n",
       "<table border=\"1\" class=\"dataframe\">\n",
       "  <thead>\n",
       "    <tr style=\"text-align: right;\">\n",
       "      <th></th>\n",
       "      <th>LorriesAndRoadTractors</th>\n",
       "      <th>YearsOfConstruction</th>\n",
       "      <th>Periods</th>\n",
       "    </tr>\n",
       "  </thead>\n",
       "  <tbody>\n",
       "    <tr>\n",
       "      <th>count</th>\n",
       "      <td>1836</td>\n",
       "      <td>1836</td>\n",
       "      <td>1836</td>\n",
       "    </tr>\n",
       "    <tr>\n",
       "      <th>unique</th>\n",
       "      <td>6</td>\n",
       "      <td>17</td>\n",
       "      <td>18</td>\n",
       "    </tr>\n",
       "    <tr>\n",
       "      <th>top</th>\n",
       "      <td>To 10 000 kg</td>\n",
       "      <td>2009</td>\n",
       "      <td>2009</td>\n",
       "    </tr>\n",
       "    <tr>\n",
       "      <th>freq</th>\n",
       "      <td>306</td>\n",
       "      <td>108</td>\n",
       "      <td>102</td>\n",
       "    </tr>\n",
       "  </tbody>\n",
       "</table>\n",
       "</div>"
      ],
      "text/plain": [
       "       LorriesAndRoadTractors YearsOfConstruction Periods\n",
       "count                    1836                1836    1836\n",
       "unique                      6                  17      18\n",
       "top              To 10 000 kg                2009    2009\n",
       "freq                      306                 108     102"
      ]
     },
     "execution_count": 55,
     "metadata": {},
     "output_type": "execute_result"
    }
   ],
   "source": [
    "# determine the categorical data columns \n",
    "cat_col = df.columns[df.dtypes == 'object']\n",
    "df[cat_col].describe()"
   ]
  },
  {
   "cell_type": "markdown",
   "metadata": {
    "colab_type": "text",
    "id": "ZlBgXrTIjeVV"
   },
   "source": [
    "## lorries and road tracoter\n",
    "what are the possible vlues in each categorical data columns \n",
    "\n",
    "1. contains 6 different types\n",
    "2. most frequent is the 'Road tractor'"
   ]
  },
  {
   "cell_type": "code",
   "execution_count": 56,
   "metadata": {},
   "outputs": [],
   "source": [
    "df_goupby_vechile_type = df.groupby(['LorriesAndRoadTractors']).sum()['DutchGoodsVehiclesInUse_10']"
   ]
  },
  {
   "cell_type": "code",
   "execution_count": 57,
   "metadata": {},
   "outputs": [
    {
     "data": {
      "text/plain": [
       "LorriesAndRoadTractors\n",
       "10 000 to 20 000 kg                  1295550.0\n",
       "20 000 kg or more                     987069.0\n",
       "Lorries and road tractors            5914882.0\n",
       "Lorry (road tractor not included)    2936908.0\n",
       "Road tractor                         2977974.0\n",
       "To 10 000 kg                          654290.0\n",
       "Name: DutchGoodsVehiclesInUse_10, dtype: float64"
      ]
     },
     "execution_count": 57,
     "metadata": {},
     "output_type": "execute_result"
    }
   ],
   "source": [
    "df_goupby_vechile_type"
   ]
  },
  {
   "cell_type": "markdown",
   "metadata": {},
   "source": [
    "Obviously 'Lorries and road tractors' is the summation of 'Road tractor' and 'Lorry (road tractor not included)'. to avoid double-counting the values, it is decided to drop the rows where the vehicle type is 'Lorries and road tractors'\n",
    "\n",
    "Other than that, 'To 10 000 kg' and '10 t to 20 t', '20 t' are sub-cat of the tractor types. it is decided to drop those rows as well."
   ]
  },
  {
   "cell_type": "code",
   "execution_count": 58,
   "metadata": {},
   "outputs": [],
   "source": [
    "df.drop(df[df['LorriesAndRoadTractors'] == 'Lorries and road tractors'].index, axis=0, inplace=True)\n",
    "df.drop(df[df['LorriesAndRoadTractors'] == 'To 10 000 kg'].index, axis=0, inplace=True)\n",
    "df.drop(df[df['LorriesAndRoadTractors'] == '10 000 to 20 000 kg'].index, axis=0, inplace=True)\n",
    "df.drop(df[df['LorriesAndRoadTractors'] == '20 000 kg or more'].index, axis=0, inplace=True)"
   ]
  },
  {
   "cell_type": "code",
   "execution_count": 59,
   "metadata": {},
   "outputs": [
    {
     "data": {
      "text/html": [
       "<div>\n",
       "<style scoped>\n",
       "    .dataframe tbody tr th:only-of-type {\n",
       "        vertical-align: middle;\n",
       "    }\n",
       "\n",
       "    .dataframe tbody tr th {\n",
       "        vertical-align: top;\n",
       "    }\n",
       "\n",
       "    .dataframe thead th {\n",
       "        text-align: right;\n",
       "    }\n",
       "</style>\n",
       "<table border=\"1\" class=\"dataframe\">\n",
       "  <thead>\n",
       "    <tr style=\"text-align: right;\">\n",
       "      <th></th>\n",
       "      <th>Key</th>\n",
       "      <th>Title</th>\n",
       "      <th>Description</th>\n",
       "      <th>CategoryGroupID</th>\n",
       "    </tr>\n",
       "  </thead>\n",
       "  <tbody>\n",
       "    <tr>\n",
       "      <th>0</th>\n",
       "      <td>A018938</td>\n",
       "      <td>Lorries and road tractors</td>\n",
       "      <td>Lorry\\r\\nRigid heavy goods road vehicle with a...</td>\n",
       "      <td>None</td>\n",
       "    </tr>\n",
       "    <tr>\n",
       "      <th>1</th>\n",
       "      <td>A018937</td>\n",
       "      <td>Road tractor</td>\n",
       "      <td>Road motor vehicle, exclusively or primarily d...</td>\n",
       "      <td>None</td>\n",
       "    </tr>\n",
       "    <tr>\n",
       "      <th>2</th>\n",
       "      <td>A018936</td>\n",
       "      <td>Lorry (road tractor not included)</td>\n",
       "      <td>Rigid heavy goods road vehicle with a gross ve...</td>\n",
       "      <td>None</td>\n",
       "    </tr>\n",
       "    <tr>\n",
       "      <th>3</th>\n",
       "      <td>A028272</td>\n",
       "      <td>To 10 000 kg</td>\n",
       "      <td>The total weight of the vehicle (or combinatio...</td>\n",
       "      <td>None</td>\n",
       "    </tr>\n",
       "    <tr>\n",
       "      <th>4</th>\n",
       "      <td>A028273</td>\n",
       "      <td>10 000 to 20 000 kg</td>\n",
       "      <td>The total weight of the vehicle (or combinatio...</td>\n",
       "      <td>None</td>\n",
       "    </tr>\n",
       "    <tr>\n",
       "      <th>5</th>\n",
       "      <td>A028274</td>\n",
       "      <td>20 000 kg or more</td>\n",
       "      <td>The total weight of the vehicle (or combinatio...</td>\n",
       "      <td>None</td>\n",
       "    </tr>\n",
       "  </tbody>\n",
       "</table>\n",
       "</div>"
      ],
      "text/plain": [
       "       Key                              Title  \\\n",
       "0  A018938          Lorries and road tractors   \n",
       "1  A018937                       Road tractor   \n",
       "2  A018936  Lorry (road tractor not included)   \n",
       "3  A028272                       To 10 000 kg   \n",
       "4  A028273                10 000 to 20 000 kg   \n",
       "5  A028274                  20 000 kg or more   \n",
       "\n",
       "                                         Description CategoryGroupID  \n",
       "0  Lorry\\r\\nRigid heavy goods road vehicle with a...            None  \n",
       "1  Road motor vehicle, exclusively or primarily d...            None  \n",
       "2  Rigid heavy goods road vehicle with a gross ve...            None  \n",
       "3  The total weight of the vehicle (or combinatio...            None  \n",
       "4  The total weight of the vehicle (or combinatio...            None  \n",
       "5  The total weight of the vehicle (or combinatio...            None  "
      ]
     },
     "execution_count": 59,
     "metadata": {},
     "output_type": "execute_result"
    }
   ],
   "source": [
    "pd.DataFrame(cbsodata.get_meta('84651ENG', 'LorriesAndRoadTractors'))"
   ]
  },
  {
   "cell_type": "code",
   "execution_count": 60,
   "metadata": {},
   "outputs": [
    {
     "name": "stdout",
     "output_type": "stream",
     "text": [
      "Rigid heavy goods road vehicle with a gross vehicle weight above 3500 kg, exclusively or primarily designed to carry goods.\n"
     ]
    }
   ],
   "source": [
    "print(pd.DataFrame(cbsodata.get_meta('84651ENG', 'LorriesAndRoadTractors'))['Description'][2])"
   ]
  },
  {
   "cell_type": "code",
   "execution_count": 61,
   "metadata": {},
   "outputs": [],
   "source": [
    "# rename the columns\n",
    "df['LorriesAndRoadTractors'].replace({'Lorry (road tractor not included)':\"Lorry\"}, inplace = True)"
   ]
  },
  {
   "cell_type": "markdown",
   "metadata": {},
   "source": [
    "## Years Of Construction"
   ]
  },
  {
   "cell_type": "code",
   "execution_count": 62,
   "metadata": {},
   "outputs": [],
   "source": [
    "def dimension_size(df, col):\n",
    "    return len(df[col].unique())"
   ]
  },
  {
   "cell_type": "code",
   "execution_count": 63,
   "metadata": {},
   "outputs": [
    {
     "name": "stdout",
     "output_type": "stream",
     "text": [
      "Total of all construction years present a summation of the other years\n"
     ]
    }
   ],
   "source": [
    "len_Periods = dimension_size(df, 'Periods')\n",
    "len_LorriesAndRoadTractors = dimension_size(df, \"LorriesAndRoadTractors\")\n",
    "\n",
    "if len(df.loc[df[\"YearsOfConstruction\"] == 'Total of all construction years']) == len_Periods* len_LorriesAndRoadTractors:\n",
    "    print('Total of all construction years present a summation of the other years')"
   ]
  },
  {
   "cell_type": "code",
   "execution_count": 64,
   "metadata": {
    "colab": {},
    "colab_type": "code",
    "id": "REgqkgUujeVY",
    "scrolled": false
   },
   "outputs": [],
   "source": [
    "df = df.drop(df.loc[df[\"YearsOfConstruction\"] == 'Total of all construction years'].index)"
   ]
  },
  {
   "cell_type": "markdown",
   "metadata": {
    "colab_type": "text",
    "id": "RHQ95X0UjeVf"
   },
   "source": [
    "# Numerical data"
   ]
  },
  {
   "cell_type": "code",
   "execution_count": 65,
   "metadata": {
    "colab": {},
    "colab_type": "code",
    "id": "VLvOYQsxjeVf"
   },
   "outputs": [],
   "source": [
    "df.head()\n",
    "\n",
    "if 'ID' in df.columns:\n",
    "    df = df.drop(['ID'], axis=1)"
   ]
  },
  {
   "cell_type": "code",
   "execution_count": 66,
   "metadata": {
    "colab": {
     "base_uri": "https://localhost:8080/",
     "height": 317
    },
    "colab_type": "code",
    "id": "tFrivkCXjeVj",
    "outputId": "79dac8e8-584a-40db-a203-b5e429a3c27d",
    "scrolled": false
   },
   "outputs": [
    {
     "data": {
      "text/html": [
       "<div>\n",
       "<style scoped>\n",
       "    .dataframe tbody tr th:only-of-type {\n",
       "        vertical-align: middle;\n",
       "    }\n",
       "\n",
       "    .dataframe tbody tr th {\n",
       "        vertical-align: top;\n",
       "    }\n",
       "\n",
       "    .dataframe thead th {\n",
       "        text-align: right;\n",
       "    }\n",
       "</style>\n",
       "<table border=\"1\" class=\"dataframe\">\n",
       "  <thead>\n",
       "    <tr style=\"text-align: right;\">\n",
       "      <th></th>\n",
       "      <th>TotalKilometresInTheNetherlands_1</th>\n",
       "      <th>KilometresByDutchVehicles_2</th>\n",
       "      <th>KilometresByForeignVehicles_3</th>\n",
       "      <th>TotalKilometresByDutchVehicles_4</th>\n",
       "      <th>KilometresInTheNetherlands_5</th>\n",
       "      <th>KilometresAbroad_6</th>\n",
       "      <th>TotalAverageAnnualKilometres_7</th>\n",
       "      <th>AverageAnnualKilometresInNetherlands_8</th>\n",
       "      <th>AverageAnnualKilometresAbroad_9</th>\n",
       "      <th>DutchGoodsVehiclesInUse_10</th>\n",
       "    </tr>\n",
       "  </thead>\n",
       "  <tbody>\n",
       "    <tr>\n",
       "      <th>count</th>\n",
       "      <td>282.0</td>\n",
       "      <td>282.0</td>\n",
       "      <td>282.0</td>\n",
       "      <td>282.0</td>\n",
       "      <td>282.0</td>\n",
       "      <td>282.0</td>\n",
       "      <td>282.0</td>\n",
       "      <td>282.0</td>\n",
       "      <td>282.0</td>\n",
       "      <td>282.0</td>\n",
       "    </tr>\n",
       "    <tr>\n",
       "      <th>mean</th>\n",
       "      <td>445.2</td>\n",
       "      <td>398.9</td>\n",
       "      <td>46.3</td>\n",
       "      <td>626.6</td>\n",
       "      <td>398.9</td>\n",
       "      <td>227.7</td>\n",
       "      <td>61416.4</td>\n",
       "      <td>40537.8</td>\n",
       "      <td>20878.6</td>\n",
       "      <td>10487.4</td>\n",
       "    </tr>\n",
       "    <tr>\n",
       "      <th>std</th>\n",
       "      <td>472.6</td>\n",
       "      <td>423.8</td>\n",
       "      <td>59.4</td>\n",
       "      <td>741.4</td>\n",
       "      <td>423.8</td>\n",
       "      <td>352.7</td>\n",
       "      <td>28600.6</td>\n",
       "      <td>14950.1</td>\n",
       "      <td>15962.4</td>\n",
       "      <td>11809.8</td>\n",
       "    </tr>\n",
       "    <tr>\n",
       "      <th>min</th>\n",
       "      <td>21.7</td>\n",
       "      <td>19.7</td>\n",
       "      <td>2.0</td>\n",
       "      <td>26.3</td>\n",
       "      <td>19.7</td>\n",
       "      <td>6.7</td>\n",
       "      <td>5368.0</td>\n",
       "      <td>4743.0</td>\n",
       "      <td>625.0</td>\n",
       "      <td>1742.0</td>\n",
       "    </tr>\n",
       "    <tr>\n",
       "      <th>25%</th>\n",
       "      <td>174.1</td>\n",
       "      <td>160.2</td>\n",
       "      <td>11.5</td>\n",
       "      <td>208.1</td>\n",
       "      <td>160.2</td>\n",
       "      <td>46.3</td>\n",
       "      <td>40891.5</td>\n",
       "      <td>29358.5</td>\n",
       "      <td>9374.8</td>\n",
       "      <td>4245.5</td>\n",
       "    </tr>\n",
       "    <tr>\n",
       "      <th>50%</th>\n",
       "      <td>277.1</td>\n",
       "      <td>242.9</td>\n",
       "      <td>19.6</td>\n",
       "      <td>355.5</td>\n",
       "      <td>242.9</td>\n",
       "      <td>88.0</td>\n",
       "      <td>59441.0</td>\n",
       "      <td>43855.5</td>\n",
       "      <td>15084.0</td>\n",
       "      <td>6278.0</td>\n",
       "    </tr>\n",
       "    <tr>\n",
       "      <th>75%</th>\n",
       "      <td>526.6</td>\n",
       "      <td>462.6</td>\n",
       "      <td>65.5</td>\n",
       "      <td>774.3</td>\n",
       "      <td>462.6</td>\n",
       "      <td>287.4</td>\n",
       "      <td>83278.8</td>\n",
       "      <td>51050.5</td>\n",
       "      <td>32021.5</td>\n",
       "      <td>10414.5</td>\n",
       "    </tr>\n",
       "    <tr>\n",
       "      <th>max</th>\n",
       "      <td>2611.0</td>\n",
       "      <td>2492.8</td>\n",
       "      <td>387.6</td>\n",
       "      <td>4481.4</td>\n",
       "      <td>2492.8</td>\n",
       "      <td>2401.1</td>\n",
       "      <td>122680.0</td>\n",
       "      <td>73155.0</td>\n",
       "      <td>73608.0</td>\n",
       "      <td>81535.0</td>\n",
       "    </tr>\n",
       "  </tbody>\n",
       "</table>\n",
       "</div>"
      ],
      "text/plain": [
       "      TotalKilometresInTheNetherlands_1 KilometresByDutchVehicles_2  \\\n",
       "count                             282.0                       282.0   \n",
       "mean                              445.2                       398.9   \n",
       "std                               472.6                       423.8   \n",
       "min                                21.7                        19.7   \n",
       "25%                               174.1                       160.2   \n",
       "50%                               277.1                       242.9   \n",
       "75%                               526.6                       462.6   \n",
       "max                              2611.0                      2492.8   \n",
       "\n",
       "      KilometresByForeignVehicles_3 TotalKilometresByDutchVehicles_4  \\\n",
       "count                         282.0                            282.0   \n",
       "mean                           46.3                            626.6   \n",
       "std                            59.4                            741.4   \n",
       "min                             2.0                             26.3   \n",
       "25%                            11.5                            208.1   \n",
       "50%                            19.6                            355.5   \n",
       "75%                            65.5                            774.3   \n",
       "max                           387.6                           4481.4   \n",
       "\n",
       "      KilometresInTheNetherlands_5 KilometresAbroad_6  \\\n",
       "count                        282.0              282.0   \n",
       "mean                         398.9              227.7   \n",
       "std                          423.8              352.7   \n",
       "min                           19.7                6.7   \n",
       "25%                          160.2               46.3   \n",
       "50%                          242.9               88.0   \n",
       "75%                          462.6              287.4   \n",
       "max                         2492.8             2401.1   \n",
       "\n",
       "      TotalAverageAnnualKilometres_7 AverageAnnualKilometresInNetherlands_8  \\\n",
       "count                          282.0                                  282.0   \n",
       "mean                         61416.4                                40537.8   \n",
       "std                          28600.6                                14950.1   \n",
       "min                           5368.0                                 4743.0   \n",
       "25%                          40891.5                                29358.5   \n",
       "50%                          59441.0                                43855.5   \n",
       "75%                          83278.8                                51050.5   \n",
       "max                         122680.0                                73155.0   \n",
       "\n",
       "      AverageAnnualKilometresAbroad_9 DutchGoodsVehiclesInUse_10  \n",
       "count                           282.0                      282.0  \n",
       "mean                          20878.6                    10487.4  \n",
       "std                           15962.4                    11809.8  \n",
       "min                             625.0                     1742.0  \n",
       "25%                            9374.8                     4245.5  \n",
       "50%                           15084.0                     6278.0  \n",
       "75%                           32021.5                    10414.5  \n",
       "max                           73608.0                    81535.0  "
      ]
     },
     "execution_count": 66,
     "metadata": {},
     "output_type": "execute_result"
    }
   ],
   "source": [
    "df.nunique(axis=0)\n",
    "df.describe().apply(lambda s: s.apply(lambda x: format(x, '0.1f')))"
   ]
  },
  {
   "cell_type": "markdown",
   "metadata": {
    "colab_type": "text",
    "id": "WEFSimP8jeVm"
   },
   "source": [
    "## correlation"
   ]
  },
  {
   "cell_type": "code",
   "execution_count": 67,
   "metadata": {
    "colab": {
     "base_uri": "https://localhost:8080/",
     "height": 676
    },
    "colab_type": "code",
    "id": "e_kU0VEHjeVn",
    "outputId": "32321ee1-20e8-4c0b-da31-3cd661a0e1a2",
    "scrolled": false
   },
   "outputs": [
    {
     "data": {
      "text/plain": [
       "<AxesSubplot:>"
      ]
     },
     "execution_count": 67,
     "metadata": {},
     "output_type": "execute_result"
    },
    {
     "data": {
      "image/png": "[encoded data removed]",
      "text/plain": [
       "<Figure size 576x576 with 2 Axes>"
      ]
     },
     "metadata": {
      "needs_background": "light"
     },
     "output_type": "display_data"
    }
   ],
   "source": [
    "corr = df.corr()\n",
    "fig, ax = plt.subplots(figsize = (8, 8))\n",
    "sns.heatmap(corr, xticklabels=corr.columns, yticklabels=corr.columns, \n",
    "            annot=True)"
   ]
  },
  {
   "cell_type": "markdown",
   "metadata": {
    "colab_type": "text",
    "id": "LLtIgtUWjeVp"
   },
   "source": [
    "quite some information is highly correlated. therefore it is decided to quite "
   ]
  },
  {
   "cell_type": "markdown",
   "metadata": {
    "colab_type": "text",
    "id": "iaqWG7B-jeVu"
   },
   "source": [
    "## drop the highly correlated columns"
   ]
  },
  {
   "cell_type": "code",
   "execution_count": 68,
   "metadata": {
    "colab": {},
    "colab_type": "code",
    "id": "xswrU3XHjeVu"
   },
   "outputs": [],
   "source": [
    "to_keep = ['LorriesAndRoadTractors', \n",
    "        'YearsOfConstruction', \n",
    "        'Periods',\n",
    "        'KilometresByDutchVehicles_2',\n",
    "        'KilometresByForeignVehicles_3',\n",
    "        'KilometresInTheNetherlands_5',  \n",
    "        'KilometresAbroad_6',\n",
    "        'DutchGoodsVehiclesInUse_10'] "
   ]
  },
  {
   "cell_type": "code",
   "execution_count": 69,
   "metadata": {
    "colab": {},
    "colab_type": "code",
    "id": "36GlZoeQjeVx"
   },
   "outputs": [],
   "source": [
    "df = df[to_keep].copy()"
   ]
  },
  {
   "cell_type": "markdown",
   "metadata": {},
   "source": [
    "## drop NaN"
   ]
  },
  {
   "cell_type": "markdown",
   "metadata": {
    "colab_type": "text",
    "id": "o-9RbDQnjeVz"
   },
   "source": [
    "We would like to see if there is any outlier, wrong data included in the dataset, and assign NAN with a reasonable value"
   ]
  },
  {
   "cell_type": "code",
   "execution_count": 70,
   "metadata": {
    "colab": {
     "base_uri": "https://localhost:8080/",
     "height": 153
    },
    "colab_type": "code",
    "id": "xlBLmia3jeV0",
    "outputId": "1da6a1e9-7b6b-4bde-ebb7-d7ff528d6cbf"
   },
   "outputs": [
    {
     "data": {
      "text/plain": [
       "LorriesAndRoadTractors           0.000000\n",
       "YearsOfConstruction              0.000000\n",
       "Periods                          0.000000\n",
       "KilometresByDutchVehicles_2      0.510417\n",
       "KilometresByForeignVehicles_3    0.510417\n",
       "KilometresInTheNetherlands_5     0.510417\n",
       "KilometresAbroad_6               0.510417\n",
       "DutchGoodsVehiclesInUse_10       0.510417\n",
       "dtype: float64"
      ]
     },
     "execution_count": 70,
     "metadata": {},
     "output_type": "execute_result"
    }
   ],
   "source": [
    "# drop NaN columns\n",
    "df.isna().sum()/df.shape[0]"
   ]
  },
  {
   "cell_type": "code",
   "execution_count": 71,
   "metadata": {},
   "outputs": [
    {
     "data": {
      "image/png": "[encoded data removed]",
      "text/plain": [
       "<Figure size 720x360 with 2 Axes>"
      ]
     },
     "metadata": {
      "needs_background": "light"
     },
     "output_type": "display_data"
    }
   ],
   "source": [
    "fig, ax = plt.subplots(figsize = (10, 5))\n",
    "sns.heatmap(df.isnull())\n",
    "plt.show()"
   ]
  },
  {
   "cell_type": "markdown",
   "metadata": {
    "colab_type": "text",
    "id": "bdx-sQ8pjeV2"
   },
   "source": [
    "nan values counts for about 50% of the entries, that is quite a significant amount. "
   ]
  },
  {
   "cell_type": "markdown",
   "metadata": {
    "colab_type": "text",
    "id": "cCueGVU6jeWE"
   },
   "source": [
    "# Lorries and tractor types"
   ]
  },
  {
   "cell_type": "code",
   "execution_count": 72,
   "metadata": {
    "colab": {},
    "colab_type": "code",
    "id": "pf1oe_HgjeWG"
   },
   "outputs": [],
   "source": [
    "df_type =  df.groupby(['Periods',\"LorriesAndRoadTractors\"]).sum()\n",
    "df_type.reset_index(inplace=True)  # flatten the dataframe"
   ]
  },
  {
   "cell_type": "code",
   "execution_count": 73,
   "metadata": {},
   "outputs": [
    {
     "data": {
      "image/png": "[encoded data removed]",
      "text/plain": [
       "<Figure size 1080x360 with 1 Axes>"
      ]
     },
     "metadata": {
      "needs_background": "light"
     },
     "output_type": "display_data"
    }
   ],
   "source": [
    "# Present the variation of total number of registered vehicles over the years\n",
    "fig, ax = plt.subplots(figsize = (15, 5))\n",
    "sns.barplot(x=\"Periods\", y=\"DutchGoodsVehiclesInUse_10\", \n",
    "             hue=\"LorriesAndRoadTractors\",  data=df_type, ax = ax)\n",
    "\n",
    "ax.set_ylabel ('number of vehiles in use')\n",
    "fig.savefig('./image/number_of_vehiles_in_use.png', bbox_inches = 'tight',dpi=150)"
   ]
  },
  {
   "cell_type": "code",
   "execution_count": 74,
   "metadata": {
    "colab": {
     "base_uri": "https://localhost:8080/",
     "height": 351
    },
    "colab_type": "code",
    "id": "w-r1zeYujeWM",
    "outputId": "c19ae0c9-b2b2-44a6-ddc7-73acc75668bd",
    "scrolled": true
   },
   "outputs": [
    {
     "data": {
      "image/png": "[encoded data removed]",
      "text/plain": [
       "<Figure size 1080x360 with 1 Axes>"
      ]
     },
     "metadata": {
      "needs_background": "light"
     },
     "output_type": "display_data"
    }
   ],
   "source": [
    "# Present the variation of total number of vehicles kilometres over the years\n",
    "fig, ax = plt.subplots(figsize = (15, 5))\n",
    "sns.barplot(x=\"Periods\", y=\"KilometresByDutchVehicles_2\", \n",
    "             hue=\"LorriesAndRoadTractors\",  data=df_type)\n",
    "\n",
    "ax.set_ylabel('kilometres by dutch vehicles')\n",
    "fig.savefig('./image/kilometres_by_dutch_vehicles.png', bbox_inches = 'tight')"
   ]
  },
  {
   "cell_type": "code",
   "execution_count": 75,
   "metadata": {},
   "outputs": [],
   "source": [
    "df_type['AverageAnnualKilometer'] = (df_type['KilometresInTheNetherlands_5'] + df_type['KilometresAbroad_6'])/df_type['DutchGoodsVehiclesInUse_10']"
   ]
  },
  {
   "cell_type": "code",
   "execution_count": null,
   "metadata": {
    "colab": {
     "base_uri": "https://localhost:8080/",
     "height": 514
    },
    "colab_type": "code",
    "id": "itNsw122jeWX",
    "outputId": "d903bba7-2534-476d-eb05-3959fa7ba8d3",
    "scrolled": false
   },
   "outputs": [],
   "source": [
    "# add labels for x and y axis \n",
    "fig, ax = plt.subplots(figsize = (8, 8))\n",
    "\n",
    "for lorries in df['LorriesAndRoadTractors'].unique():\n",
    "    \n",
    "    sns.scatterplot( x = df.loc[df['LorriesAndRoadTractors'] == lorries]['KilometresInTheNetherlands_5']/df.loc[df['LorriesAndRoadTractors'] == lorries]['DutchGoodsVehiclesInUse_10'], \n",
    "                y = df.loc[df['LorriesAndRoadTractors'] == lorries]['KilometresAbroad_6']/df.loc[df['LorriesAndRoadTractors'] == lorries]['DutchGoodsVehiclesInUse_10'], label = lorries)\n",
    "    \n",
    "ax.set_xlabel('Average annual kilometer in the netherlands')\n",
    "ax.set_ylabel('Average annual kilometer outside the netherlands')\n",
    "fig.savefig('./image/average_annual_kilometer_by_dutch_vehicles.png', bbox_inches = 'tight')"
   ]
  },
  {
   "cell_type": "markdown",
   "metadata": {
    "colab_type": "text",
    "id": "Vnu_p4UFjeWY"
   },
   "source": [
    "observations:\n",
    "\n",
    "- more frequently travel in the neterlands than abroad\n",
    "- road trator most likely to be abroad than the rest. "
   ]
  },
  {
   "cell_type": "markdown",
   "metadata": {
    "colab_type": "text",
    "id": "20DNphuqjeWq"
   },
   "source": [
    "## Service life\n",
    "\n",
    "1. include one more column named [YearInService]\n",
    "2. plot the varation normalized value "
   ]
  },
  {
   "cell_type": "code",
   "execution_count": null,
   "metadata": {
    "colab": {},
    "colab_type": "code",
    "id": "dvs54h0ejeWr"
   },
   "outputs": [],
   "source": [
    "# drop row with non-numerical values\n",
    "df_years_in_service =  df.drop(df.loc[(df[\"YearsOfConstruction\"] ==\n",
    "                                      'Year of construction 1900 to 2000') | \n",
    "                                       (df[\"YearsOfConstruction\"] ==\n",
    "                                      'Year of construction 2000 to 2005')].index).copy()"
   ]
  },
  {
   "cell_type": "code",
   "execution_count": null,
   "metadata": {
    "colab": {},
    "colab_type": "code",
    "id": "Sjt9uxG-jeWt"
   },
   "outputs": [],
   "source": [
    "df_years_in_service['YearsInService'] = df_years_in_service['Periods'].astype('int') - df_years_in_service['YearsOfConstruction'].astype('int') "
   ]
  },
  {
   "cell_type": "markdown",
   "metadata": {},
   "source": [
    "### yearly new add\n",
    "\n",
    "- the new construction every year"
   ]
  },
  {
   "cell_type": "code",
   "execution_count": null,
   "metadata": {
    "colab": {},
    "colab_type": "code",
    "id": "bIoxsiEPjeWy"
   },
   "outputs": [],
   "source": [
    "df_yearly_new_add = df_years_in_service[df_years_in_service['YearsInService'] == 0].copy()\n",
    "df_yearly_new_add['yearly_new_add'] = df_yearly_new_add['DutchGoodsVehiclesInUse_10']"
   ]
  },
  {
   "cell_type": "code",
   "execution_count": null,
   "metadata": {
    "colab": {
     "base_uri": "https://localhost:8080/",
     "height": 350
    },
    "colab_type": "code",
    "id": "ON4w-oh0jeWz",
    "outputId": "adfe751c-f556-4ae5-887c-23063dce58c1"
   },
   "outputs": [],
   "source": [
    "fig, ax = plt.subplots(figsize = (10, 5))\n",
    "\n",
    "ax = sns.barplot(x=\"Periods\", y=\"DutchGoodsVehiclesInUse_10\", \n",
    "                  hue=\"LorriesAndRoadTractors\",\n",
    "                  data=df_yearly_new_add)\n",
    "\n",
    "ax.set_title('yearly new registration');\n",
    "ax.set_ylabel('Dutch Goods Vehicle')\n",
    "plt.savefig('./image/new_registration_v_gdp.png', bbox_inches = 'tight')"
   ]
  },
  {
   "cell_type": "code",
   "execution_count": null,
   "metadata": {
    "colab": {},
    "colab_type": "code",
    "id": "DNwVYzByjeW1"
   },
   "outputs": [],
   "source": [
    "df_yearly_new_add = df_yearly_new_add[['LorriesAndRoadTractors','YearsOfConstruction','yearly_new_add']]"
   ]
  },
  {
   "cell_type": "code",
   "execution_count": null,
   "metadata": {
    "colab": {},
    "colab_type": "code",
    "id": "VF7BYb-OjeW5"
   },
   "outputs": [],
   "source": [
    "# inlude yearly new add in the df, to determine the % remain in use\n",
    "df_years_in_service = pd.merge(df_years_in_service, df_yearly_new_add,\n",
    "         on = ['LorriesAndRoadTractors','YearsOfConstruction'])\n",
    "df_years_in_service['DutchGoodsVehiclesInUse_%'] = 100*df_years_in_service['DutchGoodsVehiclesInUse_10']/df_years_in_service['yearly_new_add']"
   ]
  },
  {
   "cell_type": "code",
   "execution_count": null,
   "metadata": {
    "colab": {
     "base_uri": "https://localhost:8080/",
     "height": 334
    },
    "colab_type": "code",
    "id": "STOWPd0jjeW9",
    "outputId": "89bdc028-7ac3-46b6-8535-bc4e26f3ee98",
    "scrolled": false
   },
   "outputs": [],
   "source": [
    "fig, ax = plt.subplots(figsize = (10, 5))\n",
    "\n",
    "ax = sns.lineplot(x=\"YearsInService\", y=\"DutchGoodsVehiclesInUse_%\", \n",
    "                  hue=\"LorriesAndRoadTractors\",\n",
    "                  data=df_years_in_service)\n",
    "\n",
    "ax.set_ylabel('% remain in use')\n",
    "ax.set_ylim(bottom = 0.0)\n",
    "ax.hlines(50, 0, 13, linestyle = 'dashed')\n",
    "ax.annotate('50%', (13,50))\n",
    "\n",
    "fig.savefig('./image/years_in_service.png', bbox_inches = 'tight')"
   ]
  },
  {
   "cell_type": "markdown",
   "metadata": {
    "colab_type": "text",
    "id": "ONMGFHV_jeV4"
   },
   "source": [
    "# link between kilometer and GDP\n"
   ]
  },
  {
   "cell_type": "code",
   "execution_count": null,
   "metadata": {},
   "outputs": [],
   "source": [
    "import numpy as np"
   ]
  },
  {
   "cell_type": "code",
   "execution_count": null,
   "metadata": {},
   "outputs": [],
   "source": [
    "df_yearly =  df.groupby(['Periods']).sum()\n",
    "df_yearly.reset_index(inplace=True)"
   ]
  },
  {
   "cell_type": "code",
   "execution_count": null,
   "metadata": {},
   "outputs": [],
   "source": [
    "# import world bank data, and wrangle the ts\n",
    "df_gdp = pd.read_csv('./data/API_NLD_DS2_en_csv_v2_1224624.csv', skiprows=4, delimiter=',')\n",
    "\n",
    "df_gdp = df_gdp[df_gdp['Indicator Name'] == 'GDP (current US$)']\n",
    "df_gdp = df_gdp.transpose()\n",
    "\n",
    "df_gdp = df_gdp[df_gdp.applymap(np.isreal)]\n",
    "df_gdp.dropna(inplace=True)\n",
    "df_gdp.reset_index(inplace=True)\n",
    "\n",
    "df_gdp.columns = ['Periods','GDP (current US$)']\n",
    "\n",
    "df_gdp['Periods'] = df_gdp['Periods'].astype('int');\n",
    "df_gdp['GDP (current US$)']= df_gdp['GDP (current US$)'].astype('float');"
   ]
  },
  {
   "cell_type": "code",
   "execution_count": null,
   "metadata": {},
   "outputs": [],
   "source": [
    "df_gdp = df_gdp.loc[(df_gdp['Periods']>=2005) & (df_gdp['Periods']<=2018) ]"
   ]
  },
  {
   "cell_type": "code",
   "execution_count": null,
   "metadata": {},
   "outputs": [],
   "source": [
    "ax = df_gdp.plot(x = 'Periods', y = 'GDP (current US$)', figsize = (10, 5))\n",
    "ax.set_ylabel('GDP (current US$)')\n",
    "ax.set_xlim(left = 1999)\n",
    "\n",
    "ax2 = ax.twinx()  # instantiate a second axes that shares the same x-axis\n",
    "color = sns.color_palette()[1]\n",
    "ax2.set_ylabel('goods vechile km', color = color)  # we already handled the x-label with ax1\n",
    "ax2.tick_params(axis='y', labelcolor = color)\n",
    "\n",
    "ax2.plot(df_yearly.Periods.astype('int').values, \n",
    "         df_yearly.KilometresByDutchVehicles_2 + df_yearly.KilometresByForeignVehicles_3, \n",
    "         color = color, label = 'Total Kilometres In TheNetherlands')\n",
    "\n",
    "lines, labels = ax.get_legend_handles_labels()\n",
    "lines2, labels2 = ax2.get_legend_handles_labels()\n",
    "ax.legend(lines + lines2, labels + labels2, loc='upper left')\n",
    "plt.savefig('./image/vehicle_km_gdp.png', bbox_inches = 'tight')"
   ]
  },
  {
   "cell_type": "markdown",
   "metadata": {},
   "source": [
    "## how did economy influence investment on new equipment"
   ]
  },
  {
   "cell_type": "code",
   "execution_count": null,
   "metadata": {},
   "outputs": [],
   "source": [
    "df_yearly = df.groupby(['Periods']).sum().reset_index()"
   ]
  },
  {
   "cell_type": "code",
   "execution_count": null,
   "metadata": {
    "scrolled": true
   },
   "outputs": [],
   "source": [
    "df_yearly.head()"
   ]
  },
  {
   "cell_type": "code",
   "execution_count": null,
   "metadata": {
    "scrolled": true
   },
   "outputs": [],
   "source": [
    "df_yearly_new_add['YearsOfConstruction'] = df_yearly_new_add['YearsOfConstruction'].astype('int')\n",
    "fig, ax = plt.subplots(figsize = (10, 5))\n",
    "\n",
    "ax = sns.barplot(x=\"YearsOfConstruction\", y=\"yearly_new_add\", \n",
    "                  hue=\"LorriesAndRoadTractors\",\n",
    "                  data=df_yearly_new_add)\n",
    "\n",
    "ax.set_title('Number of newly registered goods vehicle');\n",
    "ax.set_ylabel('Dutch Goods Vehicle In Use- new registration')\n",
    "ax.set_xlabel('Year')\n",
    "\n",
    "ax2 = ax.twinx()  # instantiate a second axes that shares the same x-axis\n",
    "color = sns.color_palette()[2]\n",
    "ax2.plot(ax.get_xticks(), df_gdp['GDP (current US$)'], color = color, label = 'GDP', linestyle = '--')\n",
    "\n",
    "ax2.set_ylabel('GDP (current US$)', color = color)  # we already handled the x-label with ax1\n",
    "ax2.tick_params(axis='y', labelcolor = color)\n",
    "# ax2.set_ylim(bottom = 0)\n",
    "\n",
    "lines, labels = ax.get_legend_handles_labels()\n",
    "lines2, labels2 = ax2.get_legend_handles_labels()\n",
    "ax.legend(lines + lines2, labels + labels2, loc='upper left')\n",
    "plt.savefig('./image/new_registration_v_gdp.png', bbox_inches = 'tight')"
   ]
  },
  {
   "cell_type": "code",
   "execution_count": null,
   "metadata": {},
   "outputs": [],
   "source": []
  }
 ],
 "metadata": {
  "colab": {
   "name": "Copy of goods_vehicles.ipynb",
   "provenance": [],
   "toc_visible": true
  },
  "kernelspec": {
   "display_name": "Python 3",
   "language": "python",
   "name": "python3"
  },
  "language_info": {
   "codemirror_mode": {
    "name": "ipython",
    "version": 3
   },
   "file_extension": ".py",
   "mimetype": "text/x-python",
   "name": "python",
   "nbconvert_exporter": "python",
   "pygments_lexer": "ipython3",
   "version": "3.8.1"
  },
  "toc": {
   "base_numbering": 1,
   "nav_menu": {
    "height": "12px",
    "width": "290px"
   },
   "number_sections": true,
   "sideBar": true,
   "skip_h1_title": false,
   "title_cell": "Table of Contents",
   "title_sidebar": "Contents",
   "toc_cell": false,
   "toc_position": {},
   "toc_section_display": true,
   "toc_window_display": true
  }
 },
 "nbformat": 4,
 "nbformat_minor": 1
}
