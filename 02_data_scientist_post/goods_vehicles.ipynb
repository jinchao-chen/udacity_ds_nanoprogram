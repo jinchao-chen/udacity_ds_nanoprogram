{
 "cells": [
  {
   "cell_type": "markdown",
   "metadata": {
    "colab_type": "text",
    "id": "aPLdj88WjeU_"
   },
   "source": [
    "# motivation\n",
    "\n",
    "- correlation between goods vehicles and dutch economy\n",
    "- development over the years\n",
    "- service life of a lorry, how does it compare to a passenager car"
   ]
  },
  {
   "cell_type": "code",
   "execution_count": 174,
   "metadata": {
    "colab": {
     "base_uri": "https://localhost:8080/",
     "height": 139
    },
    "colab_type": "code",
    "id": "SwD-wWg7jeVA",
    "outputId": "b8698783-a0c1-4224-c822-254d8c7ccf91"
   },
   "outputs": [],
   "source": [
    "import cbsodata\n",
    "from pathlib import Path\n",
    "import pandas as pd\n",
    "import seaborn as sns\n",
    "from matplotlib import pyplot as plt\n",
    "sns.set_palette(\"husl\")"
   ]
  },
  {
   "cell_type": "code",
   "execution_count": 175,
   "metadata": {
    "colab": {},
    "colab_type": "code",
    "id": "gN1Xu9bQjeVE",
    "scrolled": false
   },
   "outputs": [],
   "source": [
    "# Downloading table list from cbs portal\n",
    "\n",
    "df = pd.DataFrame(cbsodata.get_data('84651ENG'))"
   ]
  },
  {
   "cell_type": "code",
   "execution_count": 176,
   "metadata": {
    "colab": {
     "base_uri": "https://localhost:8080/",
     "height": 309
    },
    "colab_type": "code",
    "id": "phPw-XpTjeVI",
    "outputId": "5fbe43fe-ee06-40e5-cd81-a4364e052107",
    "scrolled": true
   },
   "outputs": [
    {
     "data": {
      "text/html": [
       "<div>\n",
       "<style scoped>\n",
       "    .dataframe tbody tr th:only-of-type {\n",
       "        vertical-align: middle;\n",
       "    }\n",
       "\n",
       "    .dataframe tbody tr th {\n",
       "        vertical-align: top;\n",
       "    }\n",
       "\n",
       "    .dataframe thead th {\n",
       "        text-align: right;\n",
       "    }\n",
       "</style>\n",
       "<table border=\"1\" class=\"dataframe\">\n",
       "  <thead>\n",
       "    <tr style=\"text-align: right;\">\n",
       "      <th></th>\n",
       "      <th>ID</th>\n",
       "      <th>LorriesAndRoadTractors</th>\n",
       "      <th>YearsOfConstruction</th>\n",
       "      <th>Periods</th>\n",
       "      <th>TotalKilometresInTheNetherlands_1</th>\n",
       "      <th>KilometresByDutchVehicles_2</th>\n",
       "      <th>KilometresByForeignVehicles_3</th>\n",
       "      <th>TotalKilometresByDutchVehicles_4</th>\n",
       "      <th>KilometresInTheNetherlands_5</th>\n",
       "      <th>KilometresAbroad_6</th>\n",
       "      <th>TotalAverageAnnualKilometres_7</th>\n",
       "      <th>AverageAnnualKilometresInNetherlands_8</th>\n",
       "      <th>AverageAnnualKilometresAbroad_9</th>\n",
       "      <th>DutchGoodsVehiclesInUse_10</th>\n",
       "    </tr>\n",
       "  </thead>\n",
       "  <tbody>\n",
       "    <tr>\n",
       "      <th>0</th>\n",
       "      <td>0</td>\n",
       "      <td>Lorries and road tractors</td>\n",
       "      <td>Total of all construction years</td>\n",
       "      <td>2001</td>\n",
       "      <td>6592.1</td>\n",
       "      <td>6014.7</td>\n",
       "      <td>577.5</td>\n",
       "      <td>9869.7</td>\n",
       "      <td>6014.7</td>\n",
       "      <td>3855.1</td>\n",
       "      <td>58913.0</td>\n",
       "      <td>35902.0</td>\n",
       "      <td>23011.0</td>\n",
       "      <td>167530.0</td>\n",
       "    </tr>\n",
       "    <tr>\n",
       "      <th>1</th>\n",
       "      <td>1</td>\n",
       "      <td>Lorries and road tractors</td>\n",
       "      <td>Total of all construction years</td>\n",
       "      <td>2002</td>\n",
       "      <td>6600.8</td>\n",
       "      <td>5999.6</td>\n",
       "      <td>601.1</td>\n",
       "      <td>9973.7</td>\n",
       "      <td>5999.6</td>\n",
       "      <td>3974.1</td>\n",
       "      <td>59846.0</td>\n",
       "      <td>36000.0</td>\n",
       "      <td>23846.0</td>\n",
       "      <td>166657.0</td>\n",
       "    </tr>\n",
       "    <tr>\n",
       "      <th>2</th>\n",
       "      <td>2</td>\n",
       "      <td>Lorries and road tractors</td>\n",
       "      <td>Total of all construction years</td>\n",
       "      <td>2003</td>\n",
       "      <td>6610.0</td>\n",
       "      <td>6025.4</td>\n",
       "      <td>584.6</td>\n",
       "      <td>10026.9</td>\n",
       "      <td>6025.4</td>\n",
       "      <td>4001.5</td>\n",
       "      <td>61150.0</td>\n",
       "      <td>36746.0</td>\n",
       "      <td>24403.0</td>\n",
       "      <td>163974.0</td>\n",
       "    </tr>\n",
       "    <tr>\n",
       "      <th>3</th>\n",
       "      <td>3</td>\n",
       "      <td>Lorries and road tractors</td>\n",
       "      <td>Total of all construction years</td>\n",
       "      <td>2004</td>\n",
       "      <td>6684.5</td>\n",
       "      <td>6060.0</td>\n",
       "      <td>624.5</td>\n",
       "      <td>10070.7</td>\n",
       "      <td>6060.0</td>\n",
       "      <td>4010.7</td>\n",
       "      <td>61637.0</td>\n",
       "      <td>37090.0</td>\n",
       "      <td>24547.0</td>\n",
       "      <td>163387.0</td>\n",
       "    </tr>\n",
       "    <tr>\n",
       "      <th>4</th>\n",
       "      <td>4</td>\n",
       "      <td>Lorries and road tractors</td>\n",
       "      <td>Total of all construction years</td>\n",
       "      <td>2005</td>\n",
       "      <td>6797.2</td>\n",
       "      <td>6128.7</td>\n",
       "      <td>668.5</td>\n",
       "      <td>10181.2</td>\n",
       "      <td>6128.7</td>\n",
       "      <td>4052.5</td>\n",
       "      <td>62792.0</td>\n",
       "      <td>37798.0</td>\n",
       "      <td>24994.0</td>\n",
       "      <td>162142.0</td>\n",
       "    </tr>\n",
       "  </tbody>\n",
       "</table>\n",
       "</div>"
      ],
      "text/plain": [
       "   ID     LorriesAndRoadTractors              YearsOfConstruction Periods  \\\n",
       "0   0  Lorries and road tractors  Total of all construction years    2001   \n",
       "1   1  Lorries and road tractors  Total of all construction years    2002   \n",
       "2   2  Lorries and road tractors  Total of all construction years    2003   \n",
       "3   3  Lorries and road tractors  Total of all construction years    2004   \n",
       "4   4  Lorries and road tractors  Total of all construction years    2005   \n",
       "\n",
       "   TotalKilometresInTheNetherlands_1  KilometresByDutchVehicles_2  \\\n",
       "0                             6592.1                       6014.7   \n",
       "1                             6600.8                       5999.6   \n",
       "2                             6610.0                       6025.4   \n",
       "3                             6684.5                       6060.0   \n",
       "4                             6797.2                       6128.7   \n",
       "\n",
       "   KilometresByForeignVehicles_3  TotalKilometresByDutchVehicles_4  \\\n",
       "0                          577.5                            9869.7   \n",
       "1                          601.1                            9973.7   \n",
       "2                          584.6                           10026.9   \n",
       "3                          624.5                           10070.7   \n",
       "4                          668.5                           10181.2   \n",
       "\n",
       "   KilometresInTheNetherlands_5  KilometresAbroad_6  \\\n",
       "0                        6014.7              3855.1   \n",
       "1                        5999.6              3974.1   \n",
       "2                        6025.4              4001.5   \n",
       "3                        6060.0              4010.7   \n",
       "4                        6128.7              4052.5   \n",
       "\n",
       "   TotalAverageAnnualKilometres_7  AverageAnnualKilometresInNetherlands_8  \\\n",
       "0                         58913.0                                 35902.0   \n",
       "1                         59846.0                                 36000.0   \n",
       "2                         61150.0                                 36746.0   \n",
       "3                         61637.0                                 37090.0   \n",
       "4                         62792.0                                 37798.0   \n",
       "\n",
       "   AverageAnnualKilometresAbroad_9  DutchGoodsVehiclesInUse_10  \n",
       "0                          23011.0                    167530.0  \n",
       "1                          23846.0                    166657.0  \n",
       "2                          24403.0                    163974.0  \n",
       "3                          24547.0                    163387.0  \n",
       "4                          24994.0                    162142.0  "
      ]
     },
     "execution_count": 176,
     "metadata": {},
     "output_type": "execute_result"
    }
   ],
   "source": [
    "df.head()"
   ]
  },
  {
   "cell_type": "code",
   "execution_count": 177,
   "metadata": {
    "colab": {
     "base_uri": "https://localhost:8080/",
     "height": 374
    },
    "colab_type": "code",
    "id": "6dwAglqLjeVL",
    "outputId": "9a82cded-485b-4895-c2bf-7d73d215c55a"
   },
   "outputs": [
    {
     "name": "stdout",
     "output_type": "stream",
     "text": [
      "<class 'pandas.core.frame.DataFrame'>\n",
      "RangeIndex: 1836 entries, 0 to 1835\n",
      "Data columns (total 14 columns):\n",
      " #   Column                                  Non-Null Count  Dtype  \n",
      "---  ------                                  --------------  -----  \n",
      " 0   ID                                      1836 non-null   int64  \n",
      " 1   LorriesAndRoadTractors                  1836 non-null   object \n",
      " 2   YearsOfConstruction                     1836 non-null   object \n",
      " 3   Periods                                 1836 non-null   object \n",
      " 4   TotalKilometresInTheNetherlands_1       954 non-null    float64\n",
      " 5   KilometresByDutchVehicles_2             954 non-null    float64\n",
      " 6   KilometresByForeignVehicles_3           954 non-null    float64\n",
      " 7   TotalKilometresByDutchVehicles_4        954 non-null    float64\n",
      " 8   KilometresInTheNetherlands_5            954 non-null    float64\n",
      " 9   KilometresAbroad_6                      954 non-null    float64\n",
      " 10  TotalAverageAnnualKilometres_7          954 non-null    float64\n",
      " 11  AverageAnnualKilometresInNetherlands_8  954 non-null    float64\n",
      " 12  AverageAnnualKilometresAbroad_9         954 non-null    float64\n",
      " 13  DutchGoodsVehiclesInUse_10              954 non-null    float64\n",
      "dtypes: float64(10), int64(1), object(3)\n",
      "memory usage: 200.9+ KB\n"
     ]
    }
   ],
   "source": [
    "df.info()"
   ]
  },
  {
   "cell_type": "markdown",
   "metadata": {},
   "source": [
    "imported table contains 13 columns. 3 categorical data for goods vechile type, years of contruction and a time stamp (periods)\n",
    "10 columns of numerical data presenting the vehicle kilometers"
   ]
  },
  {
   "cell_type": "code",
   "execution_count": 178,
   "metadata": {
    "colab": {
     "base_uri": "https://localhost:8080/",
     "height": 902
    },
    "colab_type": "code",
    "id": "VftV61bcjeVP",
    "outputId": "cfa4171a-2c9a-4122-b9e3-dd87f1ea1cad"
   },
   "outputs": [
    {
     "data": {
      "text/html": [
       "<div>\n",
       "<style scoped>\n",
       "    .dataframe tbody tr th:only-of-type {\n",
       "        vertical-align: middle;\n",
       "    }\n",
       "\n",
       "    .dataframe tbody tr th {\n",
       "        vertical-align: top;\n",
       "    }\n",
       "\n",
       "    .dataframe thead th {\n",
       "        text-align: right;\n",
       "    }\n",
       "</style>\n",
       "<table border=\"1\" class=\"dataframe\">\n",
       "  <thead>\n",
       "    <tr style=\"text-align: right;\">\n",
       "      <th></th>\n",
       "      <th>Key</th>\n",
       "      <th>Title</th>\n",
       "      <th>Description</th>\n",
       "    </tr>\n",
       "  </thead>\n",
       "  <tbody>\n",
       "    <tr>\n",
       "      <th>0</th>\n",
       "      <td>LorriesAndRoadTractors</td>\n",
       "      <td>Lorries and road tractors</td>\n",
       "      <td></td>\n",
       "    </tr>\n",
       "    <tr>\n",
       "      <th>1</th>\n",
       "      <td>YearsOfConstruction</td>\n",
       "      <td>Years of construction</td>\n",
       "      <td></td>\n",
       "    </tr>\n",
       "    <tr>\n",
       "      <th>2</th>\n",
       "      <td>Periods</td>\n",
       "      <td>Periods</td>\n",
       "      <td></td>\n",
       "    </tr>\n",
       "    <tr>\n",
       "      <th>3</th>\n",
       "      <td></td>\n",
       "      <td>Kilometres in the Netherlands</td>\n",
       "      <td>The total distance travelled (in km) in the Ne...</td>\n",
       "    </tr>\n",
       "    <tr>\n",
       "      <th>4</th>\n",
       "      <td>TotalKilometresInTheNetherlands_1</td>\n",
       "      <td>Total kilometres in the Netherlands</td>\n",
       "      <td>The total distance travelled (in km) in the Ne...</td>\n",
       "    </tr>\n",
       "    <tr>\n",
       "      <th>5</th>\n",
       "      <td>KilometresByDutchVehicles_2</td>\n",
       "      <td>Kilometres by Dutch vehicles</td>\n",
       "      <td>None</td>\n",
       "    </tr>\n",
       "    <tr>\n",
       "      <th>6</th>\n",
       "      <td>KilometresByForeignVehicles_3</td>\n",
       "      <td>Kilometres by foreign vehicles</td>\n",
       "      <td>The total distance travelled (in km) by foreig...</td>\n",
       "    </tr>\n",
       "    <tr>\n",
       "      <th>7</th>\n",
       "      <td></td>\n",
       "      <td>Kilometres by Dutch vehicles</td>\n",
       "      <td>The total distance travelled (in km) in the Ne...</td>\n",
       "    </tr>\n",
       "    <tr>\n",
       "      <th>8</th>\n",
       "      <td>TotalKilometresByDutchVehicles_4</td>\n",
       "      <td>Total kilometres by Dutch vehicles</td>\n",
       "      <td>The total distance travelled (in km) in the Ne...</td>\n",
       "    </tr>\n",
       "    <tr>\n",
       "      <th>9</th>\n",
       "      <td>KilometresInTheNetherlands_5</td>\n",
       "      <td>Kilometres in the Netherlands</td>\n",
       "      <td>None</td>\n",
       "    </tr>\n",
       "    <tr>\n",
       "      <th>10</th>\n",
       "      <td>KilometresAbroad_6</td>\n",
       "      <td>Kilometres abroad</td>\n",
       "      <td>The total distance travelled (in km) abroad by...</td>\n",
       "    </tr>\n",
       "    <tr>\n",
       "      <th>11</th>\n",
       "      <td></td>\n",
       "      <td>Average annual kilometres</td>\n",
       "      <td>The average number of kilometres per year trav...</td>\n",
       "    </tr>\n",
       "    <tr>\n",
       "      <th>12</th>\n",
       "      <td>TotalAverageAnnualKilometres_7</td>\n",
       "      <td>Total average annual kilometres</td>\n",
       "      <td>The average number of kilometres per year trav...</td>\n",
       "    </tr>\n",
       "    <tr>\n",
       "      <th>13</th>\n",
       "      <td>AverageAnnualKilometresInNetherlands_8</td>\n",
       "      <td>Average annual kilometres in Netherlands</td>\n",
       "      <td>The average number of kilometres per year trav...</td>\n",
       "    </tr>\n",
       "    <tr>\n",
       "      <th>14</th>\n",
       "      <td>AverageAnnualKilometresAbroad_9</td>\n",
       "      <td>Average annual kilometres abroad</td>\n",
       "      <td>The average number of kilometres per year trav...</td>\n",
       "    </tr>\n",
       "    <tr>\n",
       "      <th>15</th>\n",
       "      <td>DutchGoodsVehiclesInUse_10</td>\n",
       "      <td>Dutch goods vehicles in use</td>\n",
       "      <td>All lorries and road tractors with a valid Dut...</td>\n",
       "    </tr>\n",
       "  </tbody>\n",
       "</table>\n",
       "</div>"
      ],
      "text/plain": [
       "                                       Key  \\\n",
       "0                   LorriesAndRoadTractors   \n",
       "1                      YearsOfConstruction   \n",
       "2                                  Periods   \n",
       "3                                            \n",
       "4        TotalKilometresInTheNetherlands_1   \n",
       "5              KilometresByDutchVehicles_2   \n",
       "6            KilometresByForeignVehicles_3   \n",
       "7                                            \n",
       "8         TotalKilometresByDutchVehicles_4   \n",
       "9             KilometresInTheNetherlands_5   \n",
       "10                      KilometresAbroad_6   \n",
       "11                                           \n",
       "12          TotalAverageAnnualKilometres_7   \n",
       "13  AverageAnnualKilometresInNetherlands_8   \n",
       "14         AverageAnnualKilometresAbroad_9   \n",
       "15              DutchGoodsVehiclesInUse_10   \n",
       "\n",
       "                                       Title  \\\n",
       "0                  Lorries and road tractors   \n",
       "1                      Years of construction   \n",
       "2                                    Periods   \n",
       "3              Kilometres in the Netherlands   \n",
       "4        Total kilometres in the Netherlands   \n",
       "5               Kilometres by Dutch vehicles   \n",
       "6             Kilometres by foreign vehicles   \n",
       "7               Kilometres by Dutch vehicles   \n",
       "8         Total kilometres by Dutch vehicles   \n",
       "9              Kilometres in the Netherlands   \n",
       "10                         Kilometres abroad   \n",
       "11                 Average annual kilometres   \n",
       "12           Total average annual kilometres   \n",
       "13  Average annual kilometres in Netherlands   \n",
       "14          Average annual kilometres abroad   \n",
       "15               Dutch goods vehicles in use   \n",
       "\n",
       "                                          Description  \n",
       "0                                                      \n",
       "1                                                      \n",
       "2                                                      \n",
       "3   The total distance travelled (in km) in the Ne...  \n",
       "4   The total distance travelled (in km) in the Ne...  \n",
       "5                                                None  \n",
       "6   The total distance travelled (in km) by foreig...  \n",
       "7   The total distance travelled (in km) in the Ne...  \n",
       "8   The total distance travelled (in km) in the Ne...  \n",
       "9                                                None  \n",
       "10  The total distance travelled (in km) abroad by...  \n",
       "11  The average number of kilometres per year trav...  \n",
       "12  The average number of kilometres per year trav...  \n",
       "13  The average number of kilometres per year trav...  \n",
       "14  The average number of kilometres per year trav...  \n",
       "15  All lorries and road tractors with a valid Dut...  "
      ]
     },
     "execution_count": 178,
     "metadata": {},
     "output_type": "execute_result"
    }
   ],
   "source": [
    "# Downloading metadata\n",
    "metadata_data_properties = pd.DataFrame(cbsodata.get_meta('84651ENG', 'DataProperties'))\n",
    "metadata_data_properties[['Key','Title','Description']]"
   ]
  },
  {
   "cell_type": "markdown",
   "metadata": {
    "colab_type": "text",
    "id": "Fn1RjfQLjeVS"
   },
   "source": [
    "# pre-processing categorical data "
   ]
  },
  {
   "cell_type": "code",
   "execution_count": 179,
   "metadata": {
    "colab": {
     "base_uri": "https://localhost:8080/",
     "height": 173
    },
    "colab_type": "code",
    "id": "tcZwZt8cjeVT",
    "outputId": "c9d94851-ed94-4ae0-bcb6-972af3e95232",
    "scrolled": true
   },
   "outputs": [
    {
     "data": {
      "text/html": [
       "<div>\n",
       "<style scoped>\n",
       "    .dataframe tbody tr th:only-of-type {\n",
       "        vertical-align: middle;\n",
       "    }\n",
       "\n",
       "    .dataframe tbody tr th {\n",
       "        vertical-align: top;\n",
       "    }\n",
       "\n",
       "    .dataframe thead th {\n",
       "        text-align: right;\n",
       "    }\n",
       "</style>\n",
       "<table border=\"1\" class=\"dataframe\">\n",
       "  <thead>\n",
       "    <tr style=\"text-align: right;\">\n",
       "      <th></th>\n",
       "      <th>LorriesAndRoadTractors</th>\n",
       "      <th>YearsOfConstruction</th>\n",
       "      <th>Periods</th>\n",
       "    </tr>\n",
       "  </thead>\n",
       "  <tbody>\n",
       "    <tr>\n",
       "      <th>count</th>\n",
       "      <td>1836</td>\n",
       "      <td>1836</td>\n",
       "      <td>1836</td>\n",
       "    </tr>\n",
       "    <tr>\n",
       "      <th>unique</th>\n",
       "      <td>6</td>\n",
       "      <td>17</td>\n",
       "      <td>18</td>\n",
       "    </tr>\n",
       "    <tr>\n",
       "      <th>top</th>\n",
       "      <td>To 10 000 kg</td>\n",
       "      <td>2008</td>\n",
       "      <td>2004</td>\n",
       "    </tr>\n",
       "    <tr>\n",
       "      <th>freq</th>\n",
       "      <td>306</td>\n",
       "      <td>108</td>\n",
       "      <td>102</td>\n",
       "    </tr>\n",
       "  </tbody>\n",
       "</table>\n",
       "</div>"
      ],
      "text/plain": [
       "       LorriesAndRoadTractors YearsOfConstruction Periods\n",
       "count                    1836                1836    1836\n",
       "unique                      6                  17      18\n",
       "top              To 10 000 kg                2008    2004\n",
       "freq                      306                 108     102"
      ]
     },
     "execution_count": 179,
     "metadata": {},
     "output_type": "execute_result"
    }
   ],
   "source": [
    "# determine the categorical data columns \n",
    "\n",
    "cat_col = df.columns[df.dtypes == 'object']\n",
    "df[cat_col].describe()"
   ]
  },
  {
   "cell_type": "markdown",
   "metadata": {
    "colab_type": "text",
    "id": "ZlBgXrTIjeVV"
   },
   "source": [
    "## lorries and road tracoter\n",
    "what are the possible vlues in each categorical data columns \n",
    "\n",
    "1. contains 6 different types\n",
    "2. most frequent is the 'Road tractor'"
   ]
  },
  {
   "cell_type": "code",
   "execution_count": 180,
   "metadata": {
    "colab": {
     "base_uri": "https://localhost:8080/",
     "height": 68
    },
    "colab_type": "code",
    "id": "oouWZikdjeVV",
    "outputId": "4501855a-39c5-4c01-a368-cf2f09ee4065",
    "scrolled": false
   },
   "outputs": [
    {
     "data": {
      "text/plain": [
       "array(['Lorries and road tractors', 'Road tractor',\n",
       "       'Lorry (road tractor not included)', 'To 10 000 kg',\n",
       "       '10 000 to 20 000 kg', '20 000 kg or more'], dtype=object)"
      ]
     },
     "execution_count": 180,
     "metadata": {},
     "output_type": "execute_result"
    }
   ],
   "source": [
    "df['LorriesAndRoadTractors'].unique()"
   ]
  },
  {
   "cell_type": "code",
   "execution_count": 181,
   "metadata": {},
   "outputs": [],
   "source": [
    "df_goupby_vechile_type = df.groupby(['LorriesAndRoadTractors']).sum()['DutchGoodsVehiclesInUse_10']"
   ]
  },
  {
   "cell_type": "code",
   "execution_count": 182,
   "metadata": {},
   "outputs": [
    {
     "data": {
      "text/plain": [
       "LorriesAndRoadTractors\n",
       "10 000 to 20 000 kg                  1295550.0\n",
       "20 000 kg or more                     987069.0\n",
       "Lorries and road tractors            5914882.0\n",
       "Lorry (road tractor not included)    2936908.0\n",
       "Road tractor                         2977974.0\n",
       "To 10 000 kg                          654290.0\n",
       "Name: DutchGoodsVehiclesInUse_10, dtype: float64"
      ]
     },
     "execution_count": 182,
     "metadata": {},
     "output_type": "execute_result"
    }
   ],
   "source": [
    "df_goupby_vechile_type"
   ]
  },
  {
   "cell_type": "code",
   "execution_count": 183,
   "metadata": {},
   "outputs": [
    {
     "data": {
      "text/plain": [
       "True"
      ]
     },
     "execution_count": 183,
     "metadata": {},
     "output_type": "execute_result"
    }
   ],
   "source": [
    "df_goupby_vechile_type['Road tractor'] + df_goupby_vechile_type['Lorry (road tractor not included)'] == df_goupby_vechile_type['Lorries and road tractors']"
   ]
  },
  {
   "cell_type": "code",
   "execution_count": 184,
   "metadata": {
    "scrolled": true
   },
   "outputs": [
    {
     "data": {
      "text/plain": [
       "0.9999996595059636"
      ]
     },
     "execution_count": 184,
     "metadata": {},
     "output_type": "execute_result"
    }
   ],
   "source": [
    "df_goupby_vechile_type[\"Lorry (road tractor not included)\"] /(df_goupby_vechile_type['To 10 000 kg'] + df_goupby_vechile_type['10 000 to 20 000 kg'] + df_goupby_vechile_type['20 000 kg or more'])"
   ]
  },
  {
   "cell_type": "markdown",
   "metadata": {},
   "source": [
    "obviously 'Lorries and road tractors' is the summation of 'Road tractor' and 'Lorry (road tractor not included)'. to avoid double-counting the values, it is decided to drop the rows where the vehicle type is 'Lorries and road tractors'\n",
    "\n",
    "Other than that, 'To 10 000 kg' and '10 t to 20 t', '20 t' are sub-cat of the tractor types. it is decided to drop the corresponding rows"
   ]
  },
  {
   "cell_type": "code",
   "execution_count": 185,
   "metadata": {},
   "outputs": [],
   "source": [
    "df.drop(df[df['LorriesAndRoadTractors'] == 'Lorries and road tractors'].index, axis=0, inplace=True)\n",
    "df.drop(df[df['LorriesAndRoadTractors'] == 'To 10 000 kg'].index, axis=0, inplace=True)\n",
    "df.drop(df[df['LorriesAndRoadTractors'] == '10 000 to 20 000 kg'].index, axis=0, inplace=True)\n",
    "df.drop(df[df['LorriesAndRoadTractors'] == '20 000 kg or more'].index, axis=0, inplace=True)"
   ]
  },
  {
   "cell_type": "code",
   "execution_count": 186,
   "metadata": {},
   "outputs": [
    {
     "data": {
      "text/html": [
       "<div>\n",
       "<style scoped>\n",
       "    .dataframe tbody tr th:only-of-type {\n",
       "        vertical-align: middle;\n",
       "    }\n",
       "\n",
       "    .dataframe tbody tr th {\n",
       "        vertical-align: top;\n",
       "    }\n",
       "\n",
       "    .dataframe thead th {\n",
       "        text-align: right;\n",
       "    }\n",
       "</style>\n",
       "<table border=\"1\" class=\"dataframe\">\n",
       "  <thead>\n",
       "    <tr style=\"text-align: right;\">\n",
       "      <th></th>\n",
       "      <th>Key</th>\n",
       "      <th>Title</th>\n",
       "      <th>Description</th>\n",
       "      <th>CategoryGroupID</th>\n",
       "    </tr>\n",
       "  </thead>\n",
       "  <tbody>\n",
       "    <tr>\n",
       "      <th>0</th>\n",
       "      <td>A018938</td>\n",
       "      <td>Lorries and road tractors</td>\n",
       "      <td>Lorry\\r\\nRigid heavy goods road vehicle with a...</td>\n",
       "      <td>None</td>\n",
       "    </tr>\n",
       "    <tr>\n",
       "      <th>1</th>\n",
       "      <td>A018937</td>\n",
       "      <td>Road tractor</td>\n",
       "      <td>Road motor vehicle, exclusively or primarily d...</td>\n",
       "      <td>None</td>\n",
       "    </tr>\n",
       "    <tr>\n",
       "      <th>2</th>\n",
       "      <td>A018936</td>\n",
       "      <td>Lorry (road tractor not included)</td>\n",
       "      <td>Rigid heavy goods road vehicle with a gross ve...</td>\n",
       "      <td>None</td>\n",
       "    </tr>\n",
       "    <tr>\n",
       "      <th>3</th>\n",
       "      <td>A028272</td>\n",
       "      <td>To 10 000 kg</td>\n",
       "      <td>The total weight of the vehicle (or combinatio...</td>\n",
       "      <td>None</td>\n",
       "    </tr>\n",
       "    <tr>\n",
       "      <th>4</th>\n",
       "      <td>A028273</td>\n",
       "      <td>10 000 to 20 000 kg</td>\n",
       "      <td>The total weight of the vehicle (or combinatio...</td>\n",
       "      <td>None</td>\n",
       "    </tr>\n",
       "    <tr>\n",
       "      <th>5</th>\n",
       "      <td>A028274</td>\n",
       "      <td>20 000 kg or more</td>\n",
       "      <td>The total weight of the vehicle (or combinatio...</td>\n",
       "      <td>None</td>\n",
       "    </tr>\n",
       "  </tbody>\n",
       "</table>\n",
       "</div>"
      ],
      "text/plain": [
       "       Key                              Title  \\\n",
       "0  A018938          Lorries and road tractors   \n",
       "1  A018937                       Road tractor   \n",
       "2  A018936  Lorry (road tractor not included)   \n",
       "3  A028272                       To 10 000 kg   \n",
       "4  A028273                10 000 to 20 000 kg   \n",
       "5  A028274                  20 000 kg or more   \n",
       "\n",
       "                                         Description CategoryGroupID  \n",
       "0  Lorry\\r\\nRigid heavy goods road vehicle with a...            None  \n",
       "1  Road motor vehicle, exclusively or primarily d...            None  \n",
       "2  Rigid heavy goods road vehicle with a gross ve...            None  \n",
       "3  The total weight of the vehicle (or combinatio...            None  \n",
       "4  The total weight of the vehicle (or combinatio...            None  \n",
       "5  The total weight of the vehicle (or combinatio...            None  "
      ]
     },
     "execution_count": 186,
     "metadata": {},
     "output_type": "execute_result"
    }
   ],
   "source": [
    "pd.DataFrame(cbsodata.get_meta('84651ENG', 'LorriesAndRoadTractors'))"
   ]
  },
  {
   "cell_type": "code",
   "execution_count": 187,
   "metadata": {},
   "outputs": [
    {
     "name": "stdout",
     "output_type": "stream",
     "text": [
      "Rigid heavy goods road vehicle with a gross vehicle weight above 3500 kg, exclusively or primarily designed to carry goods.\n"
     ]
    }
   ],
   "source": [
    "print(pd.DataFrame(cbsodata.get_meta('84651ENG', 'LorriesAndRoadTractors'))['Description'][2])"
   ]
  },
  {
   "cell_type": "code",
   "execution_count": 188,
   "metadata": {},
   "outputs": [],
   "source": [
    "df['LorriesAndRoadTractors'].replace({'Lorry (road tractor not included)':\"Lorry\"}, inplace = True)"
   ]
  },
  {
   "cell_type": "markdown",
   "metadata": {},
   "source": [
    "## Years Of Construction"
   ]
  },
  {
   "cell_type": "code",
   "execution_count": 189,
   "metadata": {},
   "outputs": [
    {
     "data": {
      "text/plain": [
       "array(['Total of all construction years',\n",
       "       'Year of construction 1900 to 2000',\n",
       "       'Year of construction 2000 to 2005', '2005', '2006', '2007',\n",
       "       '2008', '2009', '2010', '2011', '2012', '2013', '2014', '2015',\n",
       "       '2016', '2017', '2018'], dtype=object)"
      ]
     },
     "execution_count": 189,
     "metadata": {},
     "output_type": "execute_result"
    }
   ],
   "source": [
    "df[\"YearsOfConstruction\"].unique()"
   ]
  },
  {
   "cell_type": "code",
   "execution_count": 190,
   "metadata": {},
   "outputs": [],
   "source": [
    "def dimension_size(df, col):\n",
    "    return len(df[col].unique())"
   ]
  },
  {
   "cell_type": "code",
   "execution_count": 191,
   "metadata": {},
   "outputs": [
    {
     "name": "stdout",
     "output_type": "stream",
     "text": [
      "Total of all construction years present a summation of the other years\n"
     ]
    }
   ],
   "source": [
    "len_Periods = dimension_size(df, 'Periods')\n",
    "len_LorriesAndRoadTractors = dimension_size(df, \"LorriesAndRoadTractors\")\n",
    "\n",
    "if len(df.loc[df[\"YearsOfConstruction\"] == 'Total of all construction years']) == len_Periods* len_LorriesAndRoadTractors:\n",
    "    print('Total of all construction years present a summation of the other years')"
   ]
  },
  {
   "cell_type": "code",
   "execution_count": 192,
   "metadata": {
    "colab": {},
    "colab_type": "code",
    "id": "REgqkgUujeVY",
    "scrolled": false
   },
   "outputs": [],
   "source": [
    "df = df.drop(df.loc[df[\"YearsOfConstruction\"] == 'Total of all construction years'].index)"
   ]
  },
  {
   "cell_type": "markdown",
   "metadata": {},
   "source": [
    "## Periods"
   ]
  },
  {
   "cell_type": "code",
   "execution_count": 193,
   "metadata": {},
   "outputs": [
    {
     "data": {
      "text/plain": [
       "array(['2001', '2002', '2003', '2004', '2005', '2006', '2007', '2008',\n",
       "       '2009', '2010', '2011', '2012', '2013', '2014', '2015', '2016',\n",
       "       '2017', '2018'], dtype=object)"
      ]
     },
     "execution_count": 193,
     "metadata": {},
     "output_type": "execute_result"
    }
   ],
   "source": [
    "df[\"Periods\"].unique()  # ordinal data, vechicles recorded from year 2001 up to yera 2018"
   ]
  },
  {
   "cell_type": "markdown",
   "metadata": {
    "colab_type": "text",
    "id": "RHQ95X0UjeVf"
   },
   "source": [
    "# Numerical data"
   ]
  },
  {
   "cell_type": "code",
   "execution_count": 194,
   "metadata": {
    "colab": {},
    "colab_type": "code",
    "id": "VLvOYQsxjeVf"
   },
   "outputs": [],
   "source": [
    "df.head()\n",
    "\n",
    "if 'ID' in df.columns:\n",
    "    df = df.drop(['ID'], axis=1)"
   ]
  },
  {
   "cell_type": "code",
   "execution_count": 195,
   "metadata": {
    "colab": {
     "base_uri": "https://localhost:8080/",
     "height": 317
    },
    "colab_type": "code",
    "id": "tFrivkCXjeVj",
    "outputId": "79dac8e8-584a-40db-a203-b5e429a3c27d",
    "scrolled": true
   },
   "outputs": [
    {
     "data": {
      "text/html": [
       "<div>\n",
       "<style scoped>\n",
       "    .dataframe tbody tr th:only-of-type {\n",
       "        vertical-align: middle;\n",
       "    }\n",
       "\n",
       "    .dataframe tbody tr th {\n",
       "        vertical-align: top;\n",
       "    }\n",
       "\n",
       "    .dataframe thead th {\n",
       "        text-align: right;\n",
       "    }\n",
       "</style>\n",
       "<table border=\"1\" class=\"dataframe\">\n",
       "  <thead>\n",
       "    <tr style=\"text-align: right;\">\n",
       "      <th></th>\n",
       "      <th>TotalKilometresInTheNetherlands_1</th>\n",
       "      <th>KilometresByDutchVehicles_2</th>\n",
       "      <th>KilometresByForeignVehicles_3</th>\n",
       "      <th>TotalKilometresByDutchVehicles_4</th>\n",
       "      <th>KilometresInTheNetherlands_5</th>\n",
       "      <th>KilometresAbroad_6</th>\n",
       "      <th>TotalAverageAnnualKilometres_7</th>\n",
       "      <th>AverageAnnualKilometresInNetherlands_8</th>\n",
       "      <th>AverageAnnualKilometresAbroad_9</th>\n",
       "      <th>DutchGoodsVehiclesInUse_10</th>\n",
       "    </tr>\n",
       "  </thead>\n",
       "  <tbody>\n",
       "    <tr>\n",
       "      <th>count</th>\n",
       "      <td>282.0</td>\n",
       "      <td>282.0</td>\n",
       "      <td>282.0</td>\n",
       "      <td>282.0</td>\n",
       "      <td>282.0</td>\n",
       "      <td>282.0</td>\n",
       "      <td>282.0</td>\n",
       "      <td>282.0</td>\n",
       "      <td>282.0</td>\n",
       "      <td>282.0</td>\n",
       "    </tr>\n",
       "    <tr>\n",
       "      <th>mean</th>\n",
       "      <td>445.2</td>\n",
       "      <td>398.9</td>\n",
       "      <td>46.3</td>\n",
       "      <td>626.6</td>\n",
       "      <td>398.9</td>\n",
       "      <td>227.7</td>\n",
       "      <td>61416.4</td>\n",
       "      <td>40537.8</td>\n",
       "      <td>20878.6</td>\n",
       "      <td>10487.4</td>\n",
       "    </tr>\n",
       "    <tr>\n",
       "      <th>std</th>\n",
       "      <td>472.6</td>\n",
       "      <td>423.8</td>\n",
       "      <td>59.4</td>\n",
       "      <td>741.4</td>\n",
       "      <td>423.8</td>\n",
       "      <td>352.7</td>\n",
       "      <td>28600.6</td>\n",
       "      <td>14950.1</td>\n",
       "      <td>15962.4</td>\n",
       "      <td>11809.8</td>\n",
       "    </tr>\n",
       "    <tr>\n",
       "      <th>min</th>\n",
       "      <td>21.7</td>\n",
       "      <td>19.7</td>\n",
       "      <td>2.0</td>\n",
       "      <td>26.3</td>\n",
       "      <td>19.7</td>\n",
       "      <td>6.7</td>\n",
       "      <td>5368.0</td>\n",
       "      <td>4743.0</td>\n",
       "      <td>625.0</td>\n",
       "      <td>1742.0</td>\n",
       "    </tr>\n",
       "    <tr>\n",
       "      <th>25%</th>\n",
       "      <td>174.1</td>\n",
       "      <td>160.2</td>\n",
       "      <td>11.5</td>\n",
       "      <td>208.1</td>\n",
       "      <td>160.2</td>\n",
       "      <td>46.3</td>\n",
       "      <td>40891.5</td>\n",
       "      <td>29358.5</td>\n",
       "      <td>9374.8</td>\n",
       "      <td>4245.5</td>\n",
       "    </tr>\n",
       "    <tr>\n",
       "      <th>50%</th>\n",
       "      <td>277.1</td>\n",
       "      <td>242.9</td>\n",
       "      <td>19.6</td>\n",
       "      <td>355.5</td>\n",
       "      <td>242.9</td>\n",
       "      <td>88.0</td>\n",
       "      <td>59441.0</td>\n",
       "      <td>43855.5</td>\n",
       "      <td>15084.0</td>\n",
       "      <td>6278.0</td>\n",
       "    </tr>\n",
       "    <tr>\n",
       "      <th>75%</th>\n",
       "      <td>526.6</td>\n",
       "      <td>462.6</td>\n",
       "      <td>65.5</td>\n",
       "      <td>774.3</td>\n",
       "      <td>462.6</td>\n",
       "      <td>287.4</td>\n",
       "      <td>83278.8</td>\n",
       "      <td>51050.5</td>\n",
       "      <td>32021.5</td>\n",
       "      <td>10414.5</td>\n",
       "    </tr>\n",
       "    <tr>\n",
       "      <th>max</th>\n",
       "      <td>2611.0</td>\n",
       "      <td>2492.8</td>\n",
       "      <td>387.6</td>\n",
       "      <td>4481.4</td>\n",
       "      <td>2492.8</td>\n",
       "      <td>2401.1</td>\n",
       "      <td>122680.0</td>\n",
       "      <td>73155.0</td>\n",
       "      <td>73608.0</td>\n",
       "      <td>81535.0</td>\n",
       "    </tr>\n",
       "  </tbody>\n",
       "</table>\n",
       "</div>"
      ],
      "text/plain": [
       "      TotalKilometresInTheNetherlands_1 KilometresByDutchVehicles_2  \\\n",
       "count                             282.0                       282.0   \n",
       "mean                              445.2                       398.9   \n",
       "std                               472.6                       423.8   \n",
       "min                                21.7                        19.7   \n",
       "25%                               174.1                       160.2   \n",
       "50%                               277.1                       242.9   \n",
       "75%                               526.6                       462.6   \n",
       "max                              2611.0                      2492.8   \n",
       "\n",
       "      KilometresByForeignVehicles_3 TotalKilometresByDutchVehicles_4  \\\n",
       "count                         282.0                            282.0   \n",
       "mean                           46.3                            626.6   \n",
       "std                            59.4                            741.4   \n",
       "min                             2.0                             26.3   \n",
       "25%                            11.5                            208.1   \n",
       "50%                            19.6                            355.5   \n",
       "75%                            65.5                            774.3   \n",
       "max                           387.6                           4481.4   \n",
       "\n",
       "      KilometresInTheNetherlands_5 KilometresAbroad_6  \\\n",
       "count                        282.0              282.0   \n",
       "mean                         398.9              227.7   \n",
       "std                          423.8              352.7   \n",
       "min                           19.7                6.7   \n",
       "25%                          160.2               46.3   \n",
       "50%                          242.9               88.0   \n",
       "75%                          462.6              287.4   \n",
       "max                         2492.8             2401.1   \n",
       "\n",
       "      TotalAverageAnnualKilometres_7 AverageAnnualKilometresInNetherlands_8  \\\n",
       "count                          282.0                                  282.0   \n",
       "mean                         61416.4                                40537.8   \n",
       "std                          28600.6                                14950.1   \n",
       "min                           5368.0                                 4743.0   \n",
       "25%                          40891.5                                29358.5   \n",
       "50%                          59441.0                                43855.5   \n",
       "75%                          83278.8                                51050.5   \n",
       "max                         122680.0                                73155.0   \n",
       "\n",
       "      AverageAnnualKilometresAbroad_9 DutchGoodsVehiclesInUse_10  \n",
       "count                           282.0                      282.0  \n",
       "mean                          20878.6                    10487.4  \n",
       "std                           15962.4                    11809.8  \n",
       "min                             625.0                     1742.0  \n",
       "25%                            9374.8                     4245.5  \n",
       "50%                           15084.0                     6278.0  \n",
       "75%                           32021.5                    10414.5  \n",
       "max                           73608.0                    81535.0  "
      ]
     },
     "execution_count": 195,
     "metadata": {},
     "output_type": "execute_result"
    }
   ],
   "source": [
    "df.nunique(axis=0)\n",
    "df.describe().apply(lambda s: s.apply(lambda x: format(x, '0.1f')))"
   ]
  },
  {
   "cell_type": "markdown",
   "metadata": {
    "colab_type": "text",
    "id": "WEFSimP8jeVm"
   },
   "source": [
    "## correlation"
   ]
  },
  {
   "cell_type": "code",
   "execution_count": 196,
   "metadata": {
    "colab": {
     "base_uri": "https://localhost:8080/",
     "height": 676
    },
    "colab_type": "code",
    "id": "e_kU0VEHjeVn",
    "outputId": "32321ee1-20e8-4c0b-da31-3cd661a0e1a2"
   },
   "outputs": [
    {
     "data": {
      "text/plain": [
       "<AxesSubplot:>"
      ]
     },
     "execution_count": 196,
     "metadata": {},
     "output_type": "execute_result"
    },
    {
     "data": {
      "image/png": "[encoded data removed]",
      "text/plain": [
       "<Figure size 576x576 with 2 Axes>"
      ]
     },
     "metadata": {
      "needs_background": "light"
     },
     "output_type": "display_data"
    }
   ],
   "source": [
    "corr = df.corr()\n",
    "fig, ax = plt.subplots(figsize = (8, 8))\n",
    "sns.heatmap(corr, xticklabels=corr.columns, yticklabels=corr.columns, \n",
    "            annot=True)"
   ]
  },
  {
   "cell_type": "markdown",
   "metadata": {
    "colab_type": "text",
    "id": "LLtIgtUWjeVp"
   },
   "source": [
    "quite some information is highly correlated. therefore it is decided to quite "
   ]
  },
  {
   "cell_type": "markdown",
   "metadata": {
    "colab_type": "text",
    "id": "iaqWG7B-jeVu"
   },
   "source": [
    "## drop the highly correlated columns"
   ]
  },
  {
   "cell_type": "code",
   "execution_count": 197,
   "metadata": {
    "colab": {},
    "colab_type": "code",
    "id": "xswrU3XHjeVu"
   },
   "outputs": [],
   "source": [
    "to_keep = ['LorriesAndRoadTractors', \n",
    "        'YearsOfConstruction', \n",
    "        'Periods',\n",
    "        'TotalKilometresInTheNetherlands_1',\n",
    "        'KilometresInTheNetherlands_5',  \n",
    "        'KilometresAbroad_6',\n",
    "        'DutchGoodsVehiclesInUse_10'] "
   ]
  },
  {
   "cell_type": "code",
   "execution_count": 198,
   "metadata": {
    "colab": {},
    "colab_type": "code",
    "id": "36GlZoeQjeVx"
   },
   "outputs": [],
   "source": [
    "df = df[to_keep].copy()"
   ]
  },
  {
   "cell_type": "markdown",
   "metadata": {},
   "source": [
    "## drop NaN"
   ]
  },
  {
   "cell_type": "markdown",
   "metadata": {
    "colab_type": "text",
    "id": "o-9RbDQnjeVz"
   },
   "source": [
    "We would like to see if there is any outlier, wrong data included in the dataset, and assign NAN with a reasonable value"
   ]
  },
  {
   "cell_type": "code",
   "execution_count": 199,
   "metadata": {
    "colab": {
     "base_uri": "https://localhost:8080/",
     "height": 153
    },
    "colab_type": "code",
    "id": "xlBLmia3jeV0",
    "outputId": "1da6a1e9-7b6b-4bde-ebb7-d7ff528d6cbf"
   },
   "outputs": [
    {
     "data": {
      "text/plain": [
       "LorriesAndRoadTractors               0.000000\n",
       "YearsOfConstruction                  0.000000\n",
       "Periods                              0.000000\n",
       "TotalKilometresInTheNetherlands_1    0.510417\n",
       "KilometresInTheNetherlands_5         0.510417\n",
       "KilometresAbroad_6                   0.510417\n",
       "DutchGoodsVehiclesInUse_10           0.510417\n",
       "dtype: float64"
      ]
     },
     "execution_count": 199,
     "metadata": {},
     "output_type": "execute_result"
    }
   ],
   "source": [
    "# drop NaN columns\n",
    "df.isna().sum()/df.shape[0]"
   ]
  },
  {
   "cell_type": "markdown",
   "metadata": {
    "colab_type": "text",
    "id": "bdx-sQ8pjeV2"
   },
   "source": [
    "nan values counts for about 50% of the entries, that is quite a significant amount. "
   ]
  },
  {
   "cell_type": "code",
   "execution_count": 200,
   "metadata": {
    "colab": {
     "base_uri": "https://localhost:8080/",
     "height": 34
    },
    "colab_type": "code",
    "id": "tB1ZPGZBjeV2",
    "outputId": "404fadd4-805d-4be8-f141-d913f42e5f12"
   },
   "outputs": [
    {
     "name": "stdout",
     "output_type": "stream",
     "text": [
      "all the nans are in the same rows\n"
     ]
    }
   ],
   "source": [
    "if df.dropna().shape[0] == df.shape[0] - df.isna().sum()[-1]:\n",
    "    print ('all the nans are in the same rows')"
   ]
  },
  {
   "cell_type": "markdown",
   "metadata": {
    "colab_type": "text",
    "id": "ONMGFHV_jeV4"
   },
   "source": [
    "## link between kilometer and GDP\n"
   ]
  },
  {
   "cell_type": "code",
   "execution_count": 201,
   "metadata": {
    "colab": {},
    "colab_type": "code",
    "id": "G0ThgDrojeV4"
   },
   "outputs": [],
   "source": [
    "# download gdp\n",
    "df_gdp = pd.read_csv('./data/Quarterly_National_Accounts__values_18082020_230116.csv', delimiter=';') "
   ]
  },
  {
   "cell_type": "code",
   "execution_count": 202,
   "metadata": {
    "colab": {
     "base_uri": "https://localhost:8080/",
     "height": 423
    },
    "colab_type": "code",
    "id": "MNDf_ta_jeV6",
    "outputId": "fad19e51-98fd-4a94-aece-0524bd1a02a3",
    "scrolled": false
   },
   "outputs": [
    {
     "data": {
      "text/html": [
       "<div>\n",
       "<style scoped>\n",
       "    .dataframe tbody tr th:only-of-type {\n",
       "        vertical-align: middle;\n",
       "    }\n",
       "\n",
       "    .dataframe tbody tr th {\n",
       "        vertical-align: top;\n",
       "    }\n",
       "\n",
       "    .dataframe thead th {\n",
       "        text-align: right;\n",
       "    }\n",
       "</style>\n",
       "<table border=\"1\" class=\"dataframe\">\n",
       "  <thead>\n",
       "    <tr style=\"text-align: right;\">\n",
       "      <th></th>\n",
       "      <th>Type of data</th>\n",
       "      <th>Periods</th>\n",
       "      <th>Expenditure approach to GDP/Disposable for final expenditure/Total (million euros)</th>\n",
       "    </tr>\n",
       "  </thead>\n",
       "  <tbody>\n",
       "    <tr>\n",
       "      <th>0</th>\n",
       "      <td>Prices of 2015</td>\n",
       "      <td>1995</td>\n",
       "      <td>655525</td>\n",
       "    </tr>\n",
       "    <tr>\n",
       "      <th>1</th>\n",
       "      <td>Prices of 2015</td>\n",
       "      <td>1996</td>\n",
       "      <td>682437</td>\n",
       "    </tr>\n",
       "    <tr>\n",
       "      <th>2</th>\n",
       "      <td>Prices of 2015</td>\n",
       "      <td>1997</td>\n",
       "      <td>727252</td>\n",
       "    </tr>\n",
       "    <tr>\n",
       "      <th>3</th>\n",
       "      <td>Prices of 2015</td>\n",
       "      <td>1998</td>\n",
       "      <td>770542</td>\n",
       "    </tr>\n",
       "    <tr>\n",
       "      <th>4</th>\n",
       "      <td>Prices of 2015</td>\n",
       "      <td>1999</td>\n",
       "      <td>822040</td>\n",
       "    </tr>\n",
       "  </tbody>\n",
       "</table>\n",
       "</div>"
      ],
      "text/plain": [
       "     Type of data Periods  \\\n",
       "0  Prices of 2015    1995   \n",
       "1  Prices of 2015    1996   \n",
       "2  Prices of 2015    1997   \n",
       "3  Prices of 2015    1998   \n",
       "4  Prices of 2015    1999   \n",
       "\n",
       "   Expenditure approach to GDP/Disposable for final expenditure/Total (million euros)  \n",
       "0                                             655525                                   \n",
       "1                                             682437                                   \n",
       "2                                             727252                                   \n",
       "3                                             770542                                   \n",
       "4                                             822040                                   "
      ]
     },
     "execution_count": 202,
     "metadata": {},
     "output_type": "execute_result"
    }
   ],
   "source": [
    "df_gdp.head()"
   ]
  },
  {
   "cell_type": "code",
   "execution_count": 203,
   "metadata": {},
   "outputs": [
    {
     "data": {
      "text/plain": [
       "Index(['Type of data', 'Periods',\n",
       "       'Expenditure approach to GDP/Disposable for final expenditure/Total (million euros)'],\n",
       "      dtype='object')"
      ]
     },
     "execution_count": 203,
     "metadata": {},
     "output_type": "execute_result"
    }
   ],
   "source": [
    "df_gdp.columns"
   ]
  },
  {
   "cell_type": "code",
   "execution_count": 204,
   "metadata": {
    "colab": {
     "base_uri": "https://localhost:8080/",
     "height": 68
    },
    "colab_type": "code",
    "id": "RcDuiO-IjeV8",
    "outputId": "96550e35-b3a8-41c9-b78d-70a070aec504"
   },
   "outputs": [
    {
     "name": "stderr",
     "output_type": "stream",
     "text": [
      "/Users/jinchaochen/opt/anaconda3/lib/python3.8/site-packages/pandas/plotting/_matplotlib/core.py:1235: UserWarning: FixedFormatter should only be used together with FixedLocator\n",
      "  ax.set_xticklabels(xticklabels)\n"
     ]
    },
    {
     "data": {
      "text/plain": [
       "<AxesSubplot:xlabel='Periods'>"
      ]
     },
     "execution_count": 204,
     "metadata": {},
     "output_type": "execute_result"
    },
    {
     "data": {
      "image/png": "[encoded data removed]",
      "text/plain": [
       "<Figure size 432x288 with 1 Axes>"
      ]
     },
     "metadata": {
      "needs_background": "light"
     },
     "output_type": "display_data"
    }
   ],
   "source": [
    "df_gdp.plot(x = 'Periods', y = 'Expenditure approach to GDP/Disposable for final expenditure/Total (million euros)')"
   ]
  },
  {
   "cell_type": "code",
   "execution_count": 205,
   "metadata": {
    "colab": {},
    "colab_type": "code",
    "id": "hDJFG6L9jeV_"
   },
   "outputs": [],
   "source": [
    "gdp_metadata = pd.DataFrame(cbsodata.get_meta('84106ENG', 'DataProperties'))"
   ]
  },
  {
   "cell_type": "markdown",
   "metadata": {
    "colab_type": "text",
    "id": "cCueGVU6jeWE"
   },
   "source": [
    "# Lorries and tractor types"
   ]
  },
  {
   "cell_type": "code",
   "execution_count": 206,
   "metadata": {
    "colab": {},
    "colab_type": "code",
    "id": "pf1oe_HgjeWG"
   },
   "outputs": [],
   "source": [
    "df_type =  df.groupby(['Periods',\"LorriesAndRoadTractors\"]).sum()\n",
    "df_type.reset_index(inplace=True)  # flatten the dataframe"
   ]
  },
  {
   "cell_type": "code",
   "execution_count": 207,
   "metadata": {},
   "outputs": [
    {
     "data": {
      "text/html": [
       "<div>\n",
       "<style scoped>\n",
       "    .dataframe tbody tr th:only-of-type {\n",
       "        vertical-align: middle;\n",
       "    }\n",
       "\n",
       "    .dataframe tbody tr th {\n",
       "        vertical-align: top;\n",
       "    }\n",
       "\n",
       "    .dataframe thead th {\n",
       "        text-align: right;\n",
       "    }\n",
       "</style>\n",
       "<table border=\"1\" class=\"dataframe\">\n",
       "  <thead>\n",
       "    <tr style=\"text-align: right;\">\n",
       "      <th></th>\n",
       "      <th>Periods</th>\n",
       "      <th>LorriesAndRoadTractors</th>\n",
       "      <th>TotalKilometresInTheNetherlands_1</th>\n",
       "      <th>KilometresInTheNetherlands_5</th>\n",
       "      <th>KilometresAbroad_6</th>\n",
       "      <th>DutchGoodsVehiclesInUse_10</th>\n",
       "    </tr>\n",
       "  </thead>\n",
       "  <tbody>\n",
       "    <tr>\n",
       "      <th>0</th>\n",
       "      <td>2001</td>\n",
       "      <td>Lorry</td>\n",
       "      <td>3176.3</td>\n",
       "      <td>3047.8</td>\n",
       "      <td>857.6</td>\n",
       "      <td>95375.0</td>\n",
       "    </tr>\n",
       "    <tr>\n",
       "      <th>1</th>\n",
       "      <td>2001</td>\n",
       "      <td>Road tractor</td>\n",
       "      <td>3415.8</td>\n",
       "      <td>2966.9</td>\n",
       "      <td>2997.5</td>\n",
       "      <td>72155.0</td>\n",
       "    </tr>\n",
       "    <tr>\n",
       "      <th>2</th>\n",
       "      <td>2002</td>\n",
       "      <td>Lorry</td>\n",
       "      <td>3028.3</td>\n",
       "      <td>2902.6</td>\n",
       "      <td>831.1</td>\n",
       "      <td>93892.0</td>\n",
       "    </tr>\n",
       "    <tr>\n",
       "      <th>3</th>\n",
       "      <td>2002</td>\n",
       "      <td>Road tractor</td>\n",
       "      <td>3572.4</td>\n",
       "      <td>3097.0</td>\n",
       "      <td>3142.9</td>\n",
       "      <td>72765.0</td>\n",
       "    </tr>\n",
       "    <tr>\n",
       "      <th>4</th>\n",
       "      <td>2003</td>\n",
       "      <td>Lorry</td>\n",
       "      <td>2913.9</td>\n",
       "      <td>2796.1</td>\n",
       "      <td>806.5</td>\n",
       "      <td>90722.0</td>\n",
       "    </tr>\n",
       "    <tr>\n",
       "      <th>5</th>\n",
       "      <td>2003</td>\n",
       "      <td>Road tractor</td>\n",
       "      <td>3696.0</td>\n",
       "      <td>3229.2</td>\n",
       "      <td>3195.0</td>\n",
       "      <td>73252.0</td>\n",
       "    </tr>\n",
       "    <tr>\n",
       "      <th>6</th>\n",
       "      <td>2004</td>\n",
       "      <td>Lorry</td>\n",
       "      <td>2859.5</td>\n",
       "      <td>2736.6</td>\n",
       "      <td>789.2</td>\n",
       "      <td>88695.0</td>\n",
       "    </tr>\n",
       "    <tr>\n",
       "      <th>7</th>\n",
       "      <td>2004</td>\n",
       "      <td>Road tractor</td>\n",
       "      <td>3825.0</td>\n",
       "      <td>3323.4</td>\n",
       "      <td>3221.5</td>\n",
       "      <td>74692.0</td>\n",
       "    </tr>\n",
       "    <tr>\n",
       "      <th>8</th>\n",
       "      <td>2005</td>\n",
       "      <td>Lorry</td>\n",
       "      <td>2807.2</td>\n",
       "      <td>2679.5</td>\n",
       "      <td>774.3</td>\n",
       "      <td>86016.0</td>\n",
       "    </tr>\n",
       "    <tr>\n",
       "      <th>9</th>\n",
       "      <td>2005</td>\n",
       "      <td>Road tractor</td>\n",
       "      <td>3989.9</td>\n",
       "      <td>3449.2</td>\n",
       "      <td>3278.3</td>\n",
       "      <td>76126.0</td>\n",
       "    </tr>\n",
       "    <tr>\n",
       "      <th>10</th>\n",
       "      <td>2006</td>\n",
       "      <td>Lorry</td>\n",
       "      <td>2758.6</td>\n",
       "      <td>2621.8</td>\n",
       "      <td>755.3</td>\n",
       "      <td>85731.0</td>\n",
       "    </tr>\n",
       "    <tr>\n",
       "      <th>11</th>\n",
       "      <td>2006</td>\n",
       "      <td>Road tractor</td>\n",
       "      <td>4187.5</td>\n",
       "      <td>3577.0</td>\n",
       "      <td>3371.3</td>\n",
       "      <td>81461.0</td>\n",
       "    </tr>\n",
       "    <tr>\n",
       "      <th>12</th>\n",
       "      <td>2007</td>\n",
       "      <td>Lorry</td>\n",
       "      <td>2767.9</td>\n",
       "      <td>2626.2</td>\n",
       "      <td>731.6</td>\n",
       "      <td>85113.0</td>\n",
       "    </tr>\n",
       "    <tr>\n",
       "      <th>13</th>\n",
       "      <td>2007</td>\n",
       "      <td>Road tractor</td>\n",
       "      <td>4369.9</td>\n",
       "      <td>3692.8</td>\n",
       "      <td>3494.1</td>\n",
       "      <td>84136.0</td>\n",
       "    </tr>\n",
       "    <tr>\n",
       "      <th>14</th>\n",
       "      <td>2008</td>\n",
       "      <td>Lorry</td>\n",
       "      <td>2735.7</td>\n",
       "      <td>2601.5</td>\n",
       "      <td>670.7</td>\n",
       "      <td>85326.0</td>\n",
       "    </tr>\n",
       "    <tr>\n",
       "      <th>15</th>\n",
       "      <td>2008</td>\n",
       "      <td>Road tractor</td>\n",
       "      <td>4578.2</td>\n",
       "      <td>3913.3</td>\n",
       "      <td>3321.7</td>\n",
       "      <td>87732.0</td>\n",
       "    </tr>\n",
       "    <tr>\n",
       "      <th>16</th>\n",
       "      <td>2009</td>\n",
       "      <td>Lorry</td>\n",
       "      <td>2669.9</td>\n",
       "      <td>2537.7</td>\n",
       "      <td>637.3</td>\n",
       "      <td>84611.0</td>\n",
       "    </tr>\n",
       "    <tr>\n",
       "      <th>17</th>\n",
       "      <td>2009</td>\n",
       "      <td>Road tractor</td>\n",
       "      <td>4557.7</td>\n",
       "      <td>3930.7</td>\n",
       "      <td>3026.7</td>\n",
       "      <td>86448.0</td>\n",
       "    </tr>\n",
       "    <tr>\n",
       "      <th>18</th>\n",
       "      <td>2010</td>\n",
       "      <td>Lorry</td>\n",
       "      <td>2564.3</td>\n",
       "      <td>2431.9</td>\n",
       "      <td>618.7</td>\n",
       "      <td>82584.0</td>\n",
       "    </tr>\n",
       "    <tr>\n",
       "      <th>19</th>\n",
       "      <td>2010</td>\n",
       "      <td>Road tractor</td>\n",
       "      <td>4628.6</td>\n",
       "      <td>4051.8</td>\n",
       "      <td>2699.0</td>\n",
       "      <td>83280.0</td>\n",
       "    </tr>\n",
       "    <tr>\n",
       "      <th>20</th>\n",
       "      <td>2011</td>\n",
       "      <td>Lorry</td>\n",
       "      <td>2489.9</td>\n",
       "      <td>2360.2</td>\n",
       "      <td>639.4</td>\n",
       "      <td>80298.0</td>\n",
       "    </tr>\n",
       "    <tr>\n",
       "      <th>21</th>\n",
       "      <td>2011</td>\n",
       "      <td>Road tractor</td>\n",
       "      <td>4623.4</td>\n",
       "      <td>4062.6</td>\n",
       "      <td>2763.3</td>\n",
       "      <td>84275.0</td>\n",
       "    </tr>\n",
       "    <tr>\n",
       "      <th>22</th>\n",
       "      <td>2012</td>\n",
       "      <td>Lorry</td>\n",
       "      <td>2397.0</td>\n",
       "      <td>2269.6</td>\n",
       "      <td>597.6</td>\n",
       "      <td>77683.0</td>\n",
       "    </tr>\n",
       "    <tr>\n",
       "      <th>23</th>\n",
       "      <td>2012</td>\n",
       "      <td>Road tractor</td>\n",
       "      <td>4610.9</td>\n",
       "      <td>4053.6</td>\n",
       "      <td>2608.9</td>\n",
       "      <td>84519.0</td>\n",
       "    </tr>\n",
       "    <tr>\n",
       "      <th>24</th>\n",
       "      <td>2013</td>\n",
       "      <td>Lorry</td>\n",
       "      <td>2208.7</td>\n",
       "      <td>2072.3</td>\n",
       "      <td>661.0</td>\n",
       "      <td>75173.0</td>\n",
       "    </tr>\n",
       "    <tr>\n",
       "      <th>25</th>\n",
       "      <td>2013</td>\n",
       "      <td>Road tractor</td>\n",
       "      <td>4408.8</td>\n",
       "      <td>3848.4</td>\n",
       "      <td>2717.7</td>\n",
       "      <td>85412.0</td>\n",
       "    </tr>\n",
       "    <tr>\n",
       "      <th>26</th>\n",
       "      <td>2014</td>\n",
       "      <td>Lorry</td>\n",
       "      <td>2142.4</td>\n",
       "      <td>2002.8</td>\n",
       "      <td>646.6</td>\n",
       "      <td>72522.0</td>\n",
       "    </tr>\n",
       "    <tr>\n",
       "      <th>27</th>\n",
       "      <td>2014</td>\n",
       "      <td>Road tractor</td>\n",
       "      <td>4477.6</td>\n",
       "      <td>3903.0</td>\n",
       "      <td>2656.2</td>\n",
       "      <td>83606.0</td>\n",
       "    </tr>\n",
       "    <tr>\n",
       "      <th>28</th>\n",
       "      <td>2015</td>\n",
       "      <td>Lorry</td>\n",
       "      <td>2175.7</td>\n",
       "      <td>2037.1</td>\n",
       "      <td>558.1</td>\n",
       "      <td>71016.0</td>\n",
       "    </tr>\n",
       "    <tr>\n",
       "      <th>29</th>\n",
       "      <td>2015</td>\n",
       "      <td>Road tractor</td>\n",
       "      <td>4747.8</td>\n",
       "      <td>4129.9</td>\n",
       "      <td>2488.6</td>\n",
       "      <td>85740.0</td>\n",
       "    </tr>\n",
       "    <tr>\n",
       "      <th>30</th>\n",
       "      <td>2016</td>\n",
       "      <td>Lorry</td>\n",
       "      <td>2224.2</td>\n",
       "      <td>2075.2</td>\n",
       "      <td>512.4</td>\n",
       "      <td>70885.0</td>\n",
       "    </tr>\n",
       "    <tr>\n",
       "      <th>31</th>\n",
       "      <td>2016</td>\n",
       "      <td>Road tractor</td>\n",
       "      <td>5106.7</td>\n",
       "      <td>4423.9</td>\n",
       "      <td>2351.0</td>\n",
       "      <td>88214.0</td>\n",
       "    </tr>\n",
       "    <tr>\n",
       "      <th>32</th>\n",
       "      <td>2017</td>\n",
       "      <td>Lorry</td>\n",
       "      <td>2252.8</td>\n",
       "      <td>2114.5</td>\n",
       "      <td>448.7</td>\n",
       "      <td>71090.0</td>\n",
       "    </tr>\n",
       "    <tr>\n",
       "      <th>33</th>\n",
       "      <td>2017</td>\n",
       "      <td>Road tractor</td>\n",
       "      <td>5183.3</td>\n",
       "      <td>4439.0</td>\n",
       "      <td>2416.6</td>\n",
       "      <td>90687.0</td>\n",
       "    </tr>\n",
       "    <tr>\n",
       "      <th>34</th>\n",
       "      <td>2018</td>\n",
       "      <td>Lorry</td>\n",
       "      <td>2176.1</td>\n",
       "      <td>2028.0</td>\n",
       "      <td>481.4</td>\n",
       "      <td>71722.0</td>\n",
       "    </tr>\n",
       "    <tr>\n",
       "      <th>35</th>\n",
       "      <td>2018</td>\n",
       "      <td>Road tractor</td>\n",
       "      <td>5217.8</td>\n",
       "      <td>4467.3</td>\n",
       "      <td>2440.0</td>\n",
       "      <td>94487.0</td>\n",
       "    </tr>\n",
       "  </tbody>\n",
       "</table>\n",
       "</div>"
      ],
      "text/plain": [
       "   Periods LorriesAndRoadTractors  TotalKilometresInTheNetherlands_1  \\\n",
       "0     2001                  Lorry                             3176.3   \n",
       "1     2001           Road tractor                             3415.8   \n",
       "2     2002                  Lorry                             3028.3   \n",
       "3     2002           Road tractor                             3572.4   \n",
       "4     2003                  Lorry                             2913.9   \n",
       "5     2003           Road tractor                             3696.0   \n",
       "6     2004                  Lorry                             2859.5   \n",
       "7     2004           Road tractor                             3825.0   \n",
       "8     2005                  Lorry                             2807.2   \n",
       "9     2005           Road tractor                             3989.9   \n",
       "10    2006                  Lorry                             2758.6   \n",
       "11    2006           Road tractor                             4187.5   \n",
       "12    2007                  Lorry                             2767.9   \n",
       "13    2007           Road tractor                             4369.9   \n",
       "14    2008                  Lorry                             2735.7   \n",
       "15    2008           Road tractor                             4578.2   \n",
       "16    2009                  Lorry                             2669.9   \n",
       "17    2009           Road tractor                             4557.7   \n",
       "18    2010                  Lorry                             2564.3   \n",
       "19    2010           Road tractor                             4628.6   \n",
       "20    2011                  Lorry                             2489.9   \n",
       "21    2011           Road tractor                             4623.4   \n",
       "22    2012                  Lorry                             2397.0   \n",
       "23    2012           Road tractor                             4610.9   \n",
       "24    2013                  Lorry                             2208.7   \n",
       "25    2013           Road tractor                             4408.8   \n",
       "26    2014                  Lorry                             2142.4   \n",
       "27    2014           Road tractor                             4477.6   \n",
       "28    2015                  Lorry                             2175.7   \n",
       "29    2015           Road tractor                             4747.8   \n",
       "30    2016                  Lorry                             2224.2   \n",
       "31    2016           Road tractor                             5106.7   \n",
       "32    2017                  Lorry                             2252.8   \n",
       "33    2017           Road tractor                             5183.3   \n",
       "34    2018                  Lorry                             2176.1   \n",
       "35    2018           Road tractor                             5217.8   \n",
       "\n",
       "    KilometresInTheNetherlands_5  KilometresAbroad_6  \\\n",
       "0                         3047.8               857.6   \n",
       "1                         2966.9              2997.5   \n",
       "2                         2902.6               831.1   \n",
       "3                         3097.0              3142.9   \n",
       "4                         2796.1               806.5   \n",
       "5                         3229.2              3195.0   \n",
       "6                         2736.6               789.2   \n",
       "7                         3323.4              3221.5   \n",
       "8                         2679.5               774.3   \n",
       "9                         3449.2              3278.3   \n",
       "10                        2621.8               755.3   \n",
       "11                        3577.0              3371.3   \n",
       "12                        2626.2               731.6   \n",
       "13                        3692.8              3494.1   \n",
       "14                        2601.5               670.7   \n",
       "15                        3913.3              3321.7   \n",
       "16                        2537.7               637.3   \n",
       "17                        3930.7              3026.7   \n",
       "18                        2431.9               618.7   \n",
       "19                        4051.8              2699.0   \n",
       "20                        2360.2               639.4   \n",
       "21                        4062.6              2763.3   \n",
       "22                        2269.6               597.6   \n",
       "23                        4053.6              2608.9   \n",
       "24                        2072.3               661.0   \n",
       "25                        3848.4              2717.7   \n",
       "26                        2002.8               646.6   \n",
       "27                        3903.0              2656.2   \n",
       "28                        2037.1               558.1   \n",
       "29                        4129.9              2488.6   \n",
       "30                        2075.2               512.4   \n",
       "31                        4423.9              2351.0   \n",
       "32                        2114.5               448.7   \n",
       "33                        4439.0              2416.6   \n",
       "34                        2028.0               481.4   \n",
       "35                        4467.3              2440.0   \n",
       "\n",
       "    DutchGoodsVehiclesInUse_10  \n",
       "0                      95375.0  \n",
       "1                      72155.0  \n",
       "2                      93892.0  \n",
       "3                      72765.0  \n",
       "4                      90722.0  \n",
       "5                      73252.0  \n",
       "6                      88695.0  \n",
       "7                      74692.0  \n",
       "8                      86016.0  \n",
       "9                      76126.0  \n",
       "10                     85731.0  \n",
       "11                     81461.0  \n",
       "12                     85113.0  \n",
       "13                     84136.0  \n",
       "14                     85326.0  \n",
       "15                     87732.0  \n",
       "16                     84611.0  \n",
       "17                     86448.0  \n",
       "18                     82584.0  \n",
       "19                     83280.0  \n",
       "20                     80298.0  \n",
       "21                     84275.0  \n",
       "22                     77683.0  \n",
       "23                     84519.0  \n",
       "24                     75173.0  \n",
       "25                     85412.0  \n",
       "26                     72522.0  \n",
       "27                     83606.0  \n",
       "28                     71016.0  \n",
       "29                     85740.0  \n",
       "30                     70885.0  \n",
       "31                     88214.0  \n",
       "32                     71090.0  \n",
       "33                     90687.0  \n",
       "34                     71722.0  \n",
       "35                     94487.0  "
      ]
     },
     "execution_count": 207,
     "metadata": {},
     "output_type": "execute_result"
    }
   ],
   "source": [
    "df_type"
   ]
  },
  {
   "cell_type": "code",
   "execution_count": 208,
   "metadata": {
    "colab": {
     "base_uri": "https://localhost:8080/",
     "height": 328
    },
    "colab_type": "code",
    "id": "qYXA-Q3tjeWK",
    "outputId": "975143ad-b0e6-448a-acfe-adc641a8afe1"
   },
   "outputs": [],
   "source": [
    "# g = sns.FacetGrid(df_type, col='Periods', col_wrap= 6, sharex=True)\n",
    "# g = g.map(plt.bar, \"LorriesAndRoadTractors\",'DutchGoodsVehiclesInUse_10')"
   ]
  },
  {
   "cell_type": "code",
   "execution_count": 209,
   "metadata": {
    "colab": {
     "base_uri": "https://localhost:8080/",
     "height": 351
    },
    "colab_type": "code",
    "id": "w-r1zeYujeWM",
    "outputId": "c19ae0c9-b2b2-44a6-ddc7-73acc75668bd",
    "scrolled": false
   },
   "outputs": [
    {
     "data": {
      "text/plain": [
       "<AxesSubplot:xlabel='Periods', ylabel='TotalKilometresInTheNetherlands_1'>"
      ]
     },
     "execution_count": 209,
     "metadata": {},
     "output_type": "execute_result"
    },
    {
     "data": {
      "image/png": "[encoded data removed]",
      "text/plain": [
       "<Figure size 720x360 with 1 Axes>"
      ]
     },
     "metadata": {
      "needs_background": "light"
     },
     "output_type": "display_data"
    }
   ],
   "source": [
    "fig, ax = plt.subplots(figsize = (10, 5))\n",
    "sns.lineplot(x=\"Periods\", y=\"TotalKilometresInTheNetherlands_1\", \n",
    "             hue=\"LorriesAndRoadTractors\",  data=df_type)"
   ]
  },
  {
   "cell_type": "code",
   "execution_count": 210,
   "metadata": {},
   "outputs": [],
   "source": [
    "df_type['AverageAnnualKilometer'] = (df_type['KilometresInTheNetherlands_5'] + df_type['KilometresAbroad_6'])/df_type['DutchGoodsVehiclesInUse_10']"
   ]
  },
  {
   "cell_type": "code",
   "execution_count": 211,
   "metadata": {},
   "outputs": [
    {
     "data": {
      "text/plain": [
       "<AxesSubplot:xlabel='Periods', ylabel='AverageAnnualKilometer'>"
      ]
     },
     "execution_count": 211,
     "metadata": {},
     "output_type": "execute_result"
    },
    {
     "data": {
      "image/png": "[encoded data removed]",
      "text/plain": [
       "<Figure size 720x360 with 1 Axes>"
      ]
     },
     "metadata": {
      "needs_background": "light"
     },
     "output_type": "display_data"
    }
   ],
   "source": [
    "# add labels for x and y axis \n",
    "\n",
    "fig, ax = plt.subplots(figsize = (10, 5))\n",
    "sns.lineplot(x=\"Periods\", y=\"AverageAnnualKilometer\", \n",
    "             hue=\"LorriesAndRoadTractors\",  data=df_type)"
   ]
  },
  {
   "cell_type": "code",
   "execution_count": 212,
   "metadata": {
    "colab": {
     "base_uri": "https://localhost:8080/",
     "height": 514
    },
    "colab_type": "code",
    "id": "itNsw122jeWX",
    "outputId": "d903bba7-2534-476d-eb05-3959fa7ba8d3",
    "scrolled": false
   },
   "outputs": [
    {
     "data": {
      "text/plain": [
       "Text(0, 0.5, 'Average annual kilometer outside the netherlands')"
      ]
     },
     "execution_count": 212,
     "metadata": {},
     "output_type": "execute_result"
    },
    {
     "data": {
      "image/png": "[encoded data removed]",
      "text/plain": [
       "<Figure size 576x576 with 1 Axes>"
      ]
     },
     "metadata": {
      "needs_background": "light"
     },
     "output_type": "display_data"
    }
   ],
   "source": [
    "# add labels for x and y axis \n",
    "fig, ax = plt.subplots(figsize = (8, 8))\n",
    "\n",
    "for lorries in df['LorriesAndRoadTractors'].unique():\n",
    "    \n",
    "    sns.scatterplot( x = df.loc[df['LorriesAndRoadTractors'] == lorries]['KilometresInTheNetherlands_5']/df.loc[df['LorriesAndRoadTractors'] == lorries]['DutchGoodsVehiclesInUse_10'], \n",
    "                y = df.loc[df['LorriesAndRoadTractors'] == lorries]['KilometresAbroad_6']/df.loc[df['LorriesAndRoadTractors'] == lorries]['DutchGoodsVehiclesInUse_10'], label = lorries)\n",
    "    \n",
    "ax.set_xlabel('Average annual kilometer in the netherlands')\n",
    "ax.set_ylabel('Average annual kilometer outside the netherlands')"
   ]
  },
  {
   "cell_type": "markdown",
   "metadata": {
    "colab_type": "text",
    "id": "Vnu_p4UFjeWY"
   },
   "source": [
    "observations:\n",
    "\n",
    "- more frequently travel in the neterlands than abroad\n",
    "- to 10kg good vechile travels is more likely to be found for country-wise transportation\n",
    "- road trator most likely to be abroad than the rest. "
   ]
  },
  {
   "cell_type": "markdown",
   "metadata": {
    "colab_type": "text",
    "id": "4euPR7R-jeWZ"
   },
   "source": [
    "## distribution of construction year"
   ]
  },
  {
   "cell_type": "code",
   "execution_count": 213,
   "metadata": {
    "colab": {},
    "colab_type": "code",
    "id": "MstAv9cajeWZ"
   },
   "outputs": [],
   "source": [
    "df_construction =  df.groupby(['Periods','YearsOfConstruction']).sum()\n",
    "# df_construction.reset_index(inplace=True)  # flatten the dataframe"
   ]
  },
  {
   "cell_type": "code",
   "execution_count": 214,
   "metadata": {
    "colab": {},
    "colab_type": "code",
    "id": "zxKqTniDjeWb",
    "scrolled": false
   },
   "outputs": [],
   "source": [
    "df_construction = df.pivot_table(index='Periods', columns='YearsOfConstruction', values='DutchGoodsVehiclesInUse_10')"
   ]
  },
  {
   "cell_type": "markdown",
   "metadata": {
    "colab_type": "text",
    "id": "MlCqeKQdjeWe"
   },
   "source": [
    "## service life - construction 2005"
   ]
  },
  {
   "cell_type": "code",
   "execution_count": 215,
   "metadata": {
    "colab": {},
    "colab_type": "code",
    "id": "l3PisZZijeWe"
   },
   "outputs": [],
   "source": [
    "df_cons2005 = df.loc[df['YearsOfConstruction'] == '2005']"
   ]
  },
  {
   "cell_type": "code",
   "execution_count": 216,
   "metadata": {
    "colab": {
     "base_uri": "https://localhost:8080/",
     "height": 351
    },
    "colab_type": "code",
    "id": "94st-Ah7jeWg",
    "outputId": "41866975-cfb9-49b0-fd94-1acda4be77ce"
   },
   "outputs": [
    {
     "data": {
      "text/plain": [
       "<AxesSubplot:xlabel='Periods', ylabel='DutchGoodsVehiclesInUse_10'>"
      ]
     },
     "execution_count": 216,
     "metadata": {},
     "output_type": "execute_result"
    },
    {
     "data": {
      "image/png": "[encoded data removed]",
      "text/plain": [
       "<Figure size 720x360 with 1 Axes>"
      ]
     },
     "metadata": {
      "needs_background": "light"
     },
     "output_type": "display_data"
    }
   ],
   "source": [
    "fig, ax = plt.subplots(figsize = (10, 5))\n",
    "sns.lineplot(x=\"Periods\", y=\"DutchGoodsVehiclesInUse_10\", \n",
    "             hue=\"LorriesAndRoadTractors\", data=df_cons2005)\n"
   ]
  },
  {
   "cell_type": "code",
   "execution_count": 217,
   "metadata": {
    "colab": {
     "base_uri": "https://localhost:8080/",
     "height": 351
    },
    "colab_type": "code",
    "id": "P3hnHIBnjeWj",
    "outputId": "ba2cefa1-e488-4623-bc53-55a4442a9ad3"
   },
   "outputs": [
    {
     "data": {
      "text/plain": [
       "<matplotlib.legend.Legend at 0x7f9bfe7b9e80>"
      ]
     },
     "execution_count": 217,
     "metadata": {},
     "output_type": "execute_result"
    },
    {
     "data": {
      "image/png": "[encoded data removed]",
      "text/plain": [
       "<Figure size 720x360 with 1 Axes>"
      ]
     },
     "metadata": {
      "needs_background": "light"
     },
     "output_type": "display_data"
    }
   ],
   "source": [
    "goods_vehicles = df_cons2005['LorriesAndRoadTractors'].unique()\n",
    "\n",
    "fig, ax = plt.subplots(figsize = (10, 5))\n",
    "\n",
    "for goods_vehicle in goods_vehicles:\n",
    "    \n",
    "    df_ = df_cons2005[df_cons2005['LorriesAndRoadTractors'] == goods_vehicle].dropna()\n",
    "\n",
    "    periods = df_['Periods']\n",
    "    values = df_['DutchGoodsVehiclesInUse_10'].values\n",
    "    \n",
    "    plt.plot(periods, values/values[0], label=goods_vehicle)\n",
    "\n",
    "ax.set_xlabel('Periods')\n",
    "ax.set_ylabel('DutchGoodsVehiclesInUse_10, 2005:100%')\n",
    "ax.legend()\n",
    "# ax.set_yscale('log')"
   ]
  },
  {
   "cell_type": "markdown",
   "metadata": {
    "colab_type": "text",
    "id": "4a-Zl1J9jeWl"
   },
   "source": [
    "road tractors obviously in use for a shorter time than the other types of vehicles\n",
    "\n",
    "1. 50% of road tractor became out of service after 8 years, for heavier vechiles it is normally 11 years.  \n",
    "2. to do: check if the same trend is present in the other years"
   ]
  },
  {
   "cell_type": "code",
   "execution_count": 218,
   "metadata": {
    "colab": {
     "base_uri": "https://localhost:8080/",
     "height": 351
    },
    "colab_type": "code",
    "id": "uKyR8OrdjeWo",
    "outputId": "b121fa43-63f0-453f-9c2d-80f700b4a890",
    "scrolled": false
   },
   "outputs": [
    {
     "data": {
      "text/plain": [
       "<matplotlib.legend.Legend at 0x7f9bfc8d9c70>"
      ]
     },
     "execution_count": 218,
     "metadata": {},
     "output_type": "execute_result"
    },
    {
     "data": {
      "image/png": "[encoded data removed]",
      "text/plain": [
       "<Figure size 720x360 with 1 Axes>"
      ]
     },
     "metadata": {
      "needs_background": "light"
     },
     "output_type": "display_data"
    }
   ],
   "source": [
    "# average annual kilometers distance\n",
    "goods_vehicles = df_cons2005['LorriesAndRoadTractors'].unique()\n",
    "\n",
    "fig, ax = plt.subplots(figsize = (10, 5))\n",
    "\n",
    "for goods_vehicle in goods_vehicles:\n",
    "    \n",
    "    df_ = df_cons2005[df_cons2005['LorriesAndRoadTractors'] == goods_vehicle].dropna()\n",
    "\n",
    "    periods = df_['Periods']\n",
    "    kilometers = df_['KilometresInTheNetherlands_5'].values\n",
    "    count = df_['DutchGoodsVehiclesInUse_10'].values\n",
    "    \n",
    "    \n",
    "    plt.plot(periods, kilometers/count, label=goods_vehicle)\n",
    "\n",
    "ax.set_xlabel('Periods')\n",
    "ax.set_ylabel('average annual distance')\n",
    "ax.legend()\n",
    "# ax.set_yscale('log')"
   ]
  },
  {
   "cell_type": "markdown",
   "metadata": {
    "colab_type": "text",
    "id": "20DNphuqjeWq"
   },
   "source": [
    "## does the trend observed above applicable to the other years as well?\n",
    "\n",
    "1. include one more column named [YearInService]\n",
    "2. plot the varation normalized value "
   ]
  },
  {
   "cell_type": "code",
   "execution_count": 219,
   "metadata": {
    "colab": {},
    "colab_type": "code",
    "id": "dvs54h0ejeWr"
   },
   "outputs": [],
   "source": [
    "# drop the construction years using no-numerical values\n",
    "df_years_in_service =  df.drop(df.loc[(df[\"YearsOfConstruction\"] ==\n",
    "                                      'Year of construction 1900 to 2000') | \n",
    "                                       (df[\"YearsOfConstruction\"] ==\n",
    "                                      'Year of construction 2000 to 2005')].index).copy()"
   ]
  },
  {
   "cell_type": "code",
   "execution_count": 220,
   "metadata": {
    "colab": {},
    "colab_type": "code",
    "id": "Sjt9uxG-jeWt"
   },
   "outputs": [],
   "source": [
    "df_years_in_service['YearsInService'] = df_years_in_service['Periods'].astype('int') - df_years_in_service['YearsOfConstruction'].astype('int') "
   ]
  },
  {
   "cell_type": "code",
   "execution_count": 221,
   "metadata": {
    "colab": {},
    "colab_type": "code",
    "id": "DkguWzVojeWv"
   },
   "outputs": [],
   "source": [
    "# calculate the vehicle in use, as a ratio to the initial amount"
   ]
  },
  {
   "cell_type": "code",
   "execution_count": 222,
   "metadata": {
    "colab": {},
    "colab_type": "code",
    "id": "bIoxsiEPjeWy"
   },
   "outputs": [],
   "source": [
    "df_yearly_new_add = df_years_in_service[df_years_in_service['YearsInService'] == 0].copy()\n",
    "df_yearly_new_add['yearly_new_add'] = df_yearly_new_add['DutchGoodsVehiclesInUse_10']"
   ]
  },
  {
   "cell_type": "code",
   "execution_count": 223,
   "metadata": {
    "colab": {
     "base_uri": "https://localhost:8080/",
     "height": 350
    },
    "colab_type": "code",
    "id": "ON4w-oh0jeWz",
    "outputId": "adfe751c-f556-4ae5-887c-23063dce58c1"
   },
   "outputs": [
    {
     "data": {
      "image/png": "[encoded data removed]",
      "text/plain": [
       "<Figure size 720x360 with 1 Axes>"
      ]
     },
     "metadata": {
      "needs_background": "light"
     },
     "output_type": "display_data"
    }
   ],
   "source": [
    "fig, ax = plt.subplots(figsize = (10, 5))\n",
    "\n",
    "ax = sns.lineplot(x=\"Periods\", y=\"DutchGoodsVehiclesInUse_10\", \n",
    "                  hue=\"LorriesAndRoadTractors\",\n",
    "                  data=df_yearly_new_add)\n",
    "\n",
    "ax.set_title('new registration yearly');"
   ]
  },
  {
   "cell_type": "code",
   "execution_count": 224,
   "metadata": {
    "colab": {},
    "colab_type": "code",
    "id": "DNwVYzByjeW1"
   },
   "outputs": [],
   "source": [
    "df_yearly_new_add = df_yearly_new_add[['LorriesAndRoadTractors','YearsOfConstruction','yearly_new_add']]\n",
    "df_years_in_service = pd.merge(df_years_in_service, df_yearly_new_add,\n",
    "         on = ['LorriesAndRoadTractors','YearsOfConstruction'])"
   ]
  },
  {
   "cell_type": "code",
   "execution_count": 225,
   "metadata": {
    "colab": {},
    "colab_type": "code",
    "id": "VF7BYb-OjeW5"
   },
   "outputs": [],
   "source": [
    "df_years_in_service['DutchGoodsVehiclesInUse_%'] = df_years_in_service['DutchGoodsVehiclesInUse_10']/df_years_in_service['yearly_new_add']"
   ]
  },
  {
   "cell_type": "code",
   "execution_count": 226,
   "metadata": {
    "colab": {
     "base_uri": "https://localhost:8080/",
     "height": 334
    },
    "colab_type": "code",
    "id": "STOWPd0jjeW9",
    "outputId": "89bdc028-7ac3-46b6-8535-bc4e26f3ee98"
   },
   "outputs": [
    {
     "data": {
      "image/png": "[encoded data removed]",
      "text/plain": [
       "<Figure size 720x360 with 1 Axes>"
      ]
     },
     "metadata": {
      "needs_background": "light"
     },
     "output_type": "display_data"
    }
   ],
   "source": [
    "fig, ax = plt.subplots(figsize = (10, 5))\n",
    "\n",
    "ax = sns.lineplot(x=\"YearsInService\", y=\"DutchGoodsVehiclesInUse_%\", \n",
    "                  hue=\"LorriesAndRoadTractors\",\n",
    "                  data=df_years_in_service)"
   ]
  }
 ],
 "metadata": {
  "colab": {
   "name": "Copy of goods_vehicles.ipynb",
   "provenance": [],
   "toc_visible": true
  },
  "kernelspec": {
   "display_name": "Python 3",
   "language": "python",
   "name": "python3"
  },
  "language_info": {
   "codemirror_mode": {
    "name": "ipython",
    "version": 3
   },
   "file_extension": ".py",
   "mimetype": "text/x-python",
   "name": "python",
   "nbconvert_exporter": "python",
   "pygments_lexer": "ipython3",
   "version": "3.8.1"
  },
  "toc": {
   "base_numbering": 1,
   "nav_menu": {
    "height": "12px",
    "width": "290px"
   },
   "number_sections": true,
   "sideBar": true,
   "skip_h1_title": false,
   "title_cell": "Table of Contents",
   "title_sidebar": "Contents",
   "toc_cell": false,
   "toc_position": {},
   "toc_section_display": true,
   "toc_window_display": true
  }
 },
 "nbformat": 4,
 "nbformat_minor": 1
}
