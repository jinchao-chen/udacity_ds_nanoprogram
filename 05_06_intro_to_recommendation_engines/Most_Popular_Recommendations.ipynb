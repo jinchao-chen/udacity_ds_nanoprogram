{
 "cells": [
  {
   "cell_type": "markdown",
   "metadata": {},
   "source": [
    "### Recommendations with MovieTweetings: Most Popular Recommendation\n",
    "\n",
    "Now that you have created the necessary columns we will be using throughout the rest of the lesson on creating recommendations, let's get started with the first of our recommendations.\n",
    "\n",
    "To get started, read in the libraries and the two datasets you will be using throughout the lesson using the code below.\n"
   ]
  },
  {
   "cell_type": "code",
   "execution_count": 1,
   "metadata": {},
   "outputs": [],
   "source": [
    "import numpy as np\n",
    "import pandas as pd\n",
    "import matplotlib.pyplot as plt\n",
    "import tests as t\n",
    "\n",
    "%matplotlib inline\n",
    "\n",
    "# Read in the datasets\n",
    "movies = pd.read_csv('movies_clean.csv')\n",
    "reviews = pd.read_csv('reviews_clean.csv')\n",
    "del movies['Unnamed: 0']\n",
    "del reviews['Unnamed: 0']"
   ]
  },
  {
   "cell_type": "code",
   "execution_count": 2,
   "metadata": {},
   "outputs": [],
   "source": [
    "# movies"
   ]
  },
  {
   "cell_type": "markdown",
   "metadata": {},
   "source": [
    "#### 1. How To Find The Most Popular Movies\n",
    "\n",
    "For this notebook, we have a single task.  The task is that no matter the user, we need to provide a list of the recommendations based on simply the most popular items.\n",
    "\n",
    "For this task, we will consider what is \"most popular\" based on the following criteria:\n",
    "\n",
    "* A movie with the highest average rating is considered best\n",
    "* With ties, movies that have more ratings are better\n",
    "* A movie must have a minimum of 5 ratings to be considered among the best movies\n",
    "* If movies are tied in their average rating and number of ratings, the ranking is determined by the movie that is the most recent rating\n",
    "\n",
    "With these criteria, the goal for this notebook is to take a **user_id** and provide back the **n_top** recommendations.  Use the function below as the scaffolding that will be used for all the future recommendations as well."
   ]
  },
  {
   "cell_type": "code",
   "execution_count": 3,
   "metadata": {},
   "outputs": [],
   "source": [
    "def popular_recommendations(user_id, n_top):\n",
    "    '''\n",
    "    INPUT:\n",
    "    user_id - the user_id of the individual you are making recommendations for\n",
    "    n_top - an integer of the number recommendations you want back\n",
    "    OUTPUT:\n",
    "    top_movies - a list of the n_top recommended movies by movie title in order best to worst\n",
    "    '''\n",
    "    \n",
    "    movies_sortd = movies[movies['rating_count'] >= 5].sort_values(\n",
    "    by=['average_rating', 'rating_count', 'most_recent_review'], ascending=False)\n",
    "    \n",
    "    top_movies = list(movies_sortd.iloc[0:n_top]['movie'].values)\n",
    "    \n",
    "    return top_movies # a list of the n_top movies as recommended"
   ]
  },
  {
   "cell_type": "code",
   "execution_count": 4,
   "metadata": {},
   "outputs": [],
   "source": [
    "def create_movie_review(reviews):\n",
    "    '''create a review summary for each movie'''\n",
    "\n",
    "    review_count = reviews.pivot_table(index='movie_id', values='rating',aggfunc= \"count\").reset_index()\n",
    "    review_count.columns = ['movie_id', 'rating_count']\n",
    "\n",
    "    review_mean = reviews.pivot_table(index='movie_id', values='rating',aggfunc= np.mean).reset_index()\n",
    "    review_mean.columns = ['movie_id', 'average_rating']\n",
    "\n",
    "    review_most_recent = reviews.pivot_table(index='movie_id', values='date', aggfunc=max).reset_index()\n",
    "    review_most_recent.columns = ['movie_id', 'most_recent_review']\n",
    "    \n",
    "    movie_review = review_count.merge(review_mean).merge(review_most_recent)\n",
    "    \n",
    "    return movie_review"
   ]
  },
  {
   "cell_type": "code",
   "execution_count": 5,
   "metadata": {},
   "outputs": [],
   "source": [
    "# def movie_filter()"
   ]
  },
  {
   "cell_type": "code",
   "execution_count": 6,
   "metadata": {},
   "outputs": [],
   "source": [
    "movie_review = create_movie_review(reviews)\n",
    "movies = movies.merge(movie_review)"
   ]
  },
  {
   "cell_type": "markdown",
   "metadata": {},
   "source": [
    "Usint the three criteria above, you should be able to put together the above function.  If you feel confident in your solution, check the results of your function against our solution. On the next page, you can see a walkthrough and you can of course get the solution by looking at the solution notebook available in this workspace.  "
   ]
  },
  {
   "cell_type": "code",
   "execution_count": 7,
   "metadata": {},
   "outputs": [],
   "source": [
    "# Put your solutions for each of the cases here\n",
    "\n",
    "# Top 20 movies recommended for id 1\n",
    "\n",
    "recs_20_for_1 = popular_recommendations(user_id = 1, n_top = 20) # Your solution list here\n",
    "\n",
    "# Top 5 movies recommended for id 53968\n",
    "recs_5_for_53968 = popular_recommendations(user_id = 53968, n_top = 5) # Your solution list here\n",
    "\n",
    "# Top 100 movies recommended for id 70000\n",
    "recs_100_for_70000 = popular_recommendations(user_id = 1, n_top = 100)# Your solution list here\n",
    "\n",
    "# Top 35 movies recommended for id 43\n",
    "recs_35_for_43 = popular_recommendations(user_id = 1, n_top = 35)# Your solution list here\n"
   ]
  },
  {
   "cell_type": "code",
   "execution_count": 8,
   "metadata": {},
   "outputs": [
    {
     "name": "stdout",
     "output_type": "stream",
     "text": [
      "If you got here, looks like you are good to go!  Nice job!\n"
     ]
    }
   ],
   "source": [
    "### You Should Not Need To Modify Anything In This Cell\n",
    "ranked_movies = t.create_ranked_df(movies, reviews) # only run this once - it is not fast\n",
    "\n",
    "# check 1 \n",
    "assert t.popular_recommendations('1', 20, ranked_movies) == recs_20_for_1,  \"The first check failed...\"\n",
    "# check 2\n",
    "assert t.popular_recommendations('53968', 5, ranked_movies) == recs_5_for_53968,  \"The second check failed...\"\n",
    "# check 3\n",
    "assert t.popular_recommendations('70000', 100, ranked_movies) == recs_100_for_70000,  \"The third check failed...\"\n",
    "# check 4\n",
    "assert t.popular_recommendations('43', 35, ranked_movies) == recs_35_for_43,  \"The fourth check failed...\"\n",
    "\n",
    "print(\"If you got here, looks like you are good to go!  Nice job!\")"
   ]
  },
  {
   "cell_type": "markdown",
   "metadata": {},
   "source": [
    "**Notice:** This wasn't the only way we could have determined the \"top rated\" movies.  You can imagine that in keeping track of trending news or trending social events, you would likely want to create a time window from the current time, and then pull the articles in the most recent time frame.  There are always going to be some subjective decisions to be made.  \n",
    "\n",
    "If you find that no one is paying any attention to your most popular recommendations, then it might be time to find a new way to recommend, which is what the next parts of the lesson should prepare us to do!\n"
   ]
  },
  {
   "cell_type": "markdown",
   "metadata": {},
   "source": [
    "### Part II: Adding Filters\n",
    "\n",
    "Now that you have created a function to give back the **n_top** movies, let's make it a bit more robust.  Add arguments that will act as filters for the movie **year** and **genre**.  \n",
    "\n",
    "Use the cells below to adjust your existing function to allow for **year** and **genre** arguments as **lists** of **strings**.  Then your ending results are filtered to only movies within the lists of provided years and genres (as `or` conditions).  If no list is provided, there should be no filter applied.\n",
    "\n",
    "You can adjust other necessary inputs as necessary to retrieve the final results you are looking for!\n",
    "\n",
    "Try writing a few tests against the test function in our test function.  Below returns the top 20 movies for user 1 based on the specified year and genre filters.  Does yours return the same? \n",
    "\n",
    "```\n",
    "t.popular_recs_filtered('1', 20, ranked_movies, years=['2015', '2016', '2017', '2018'], genres=['History'])\n",
    "```"
   ]
  },
  {
   "cell_type": "code",
   "execution_count": 15,
   "metadata": {},
   "outputs": [],
   "source": [
    "def popular_recommendations(user_id, n_top, movies, years, genres):\n",
    "    '''\n",
    "    INPUT:\n",
    "    user_id - the user_id of the individual you are making recommendations for\n",
    "    n_top - an integer of the number recommendations you want back\n",
    "    OUTPUT:\n",
    "    top_movies - a list of the n_top recommended movies by movie title in order best to worst\n",
    "    '''\n",
    "\n",
    "    # filter by years\n",
    "#     movies_filtered = movies[movies['date'].astype(\n",
    "#         'str').apply(lambda x:x in years)]\n",
    "    \n",
    "    movies_filtered = movies[movies['date'].astype(\n",
    "        'str').isin(years)]\n",
    "\n",
    "#     print(movies_filtered)\n",
    "\n",
    "    # filter by genres:\n",
    "    for genre in genres:\n",
    "        try:\n",
    "            movies_filtered = movies_filtered[movies_filtered[genre] == 1]\n",
    "        except:\n",
    "            raise KeyError('{:} not in movie genres'.format(genre))\n",
    "\n",
    "    # sort the movie according to the specified rules\n",
    "    movies_sortd = movies_filtered[movies_filtered['rating_count'] >= 5].sort_values(\n",
    "        by=['average_rating', 'rating_count', 'most_recent_review'], ascending=False)\n",
    "\n",
    "    top_movies = list(movies_sortd.iloc[0:n_top]['movie'].values)\n",
    "\n",
    "    return top_movies  # a list of the n_top movies as recommended"
   ]
  },
  {
   "cell_type": "code",
   "execution_count": 16,
   "metadata": {},
   "outputs": [
    {
     "data": {
      "text/plain": [
       "['Ayla: The Daughter of War (2017)',\n",
       " 'I Believe in Miracles (2015)',\n",
       " 'The Farthest (2017)',\n",
       " 'Sado (2015)',\n",
       " 'Hatred (2016)',\n",
       " 'Kincsem (2017)',\n",
       " 'Nise - O Coração da Loucura (2015)',\n",
       " 'LA 92 (2017)',\n",
       " 'Straight Outta Compton (2015)',\n",
       " 'Manjhi: The Mountain Man (2015)',\n",
       " 'Only the Dead (2015)',\n",
       " 'Spotlight (2015)',\n",
       " 'Under sandet (2015)',\n",
       " 'Airlift (2016)',\n",
       " 'Dunkirk (2017)',\n",
       " 'Taeksi Woonjunsa (2017)',\n",
       " 'The Battleship Island (2017)',\n",
       " 'Darkest Hour (2017)',\n",
       " 'Best of Enemies (2015)',\n",
       " 'The Ghazi Attack (2017)']"
      ]
     },
     "execution_count": 16,
     "metadata": {},
     "output_type": "execute_result"
    }
   ],
   "source": [
    "popular_recommendations('1', 20, movies, years=['2015', '2016', '2017', '2018'], genres=['History'])"
   ]
  },
  {
   "cell_type": "code",
   "execution_count": 11,
   "metadata": {},
   "outputs": [
    {
     "data": {
      "text/plain": [
       "['Ayla: The Daughter of War (2017)',\n",
       " 'I Believe in Miracles (2015)',\n",
       " 'The Farthest (2017)',\n",
       " 'Sado (2015)',\n",
       " 'Hatred (2016)',\n",
       " 'Kincsem (2017)',\n",
       " 'Nise - O Coração da Loucura (2015)',\n",
       " 'LA 92 (2017)',\n",
       " 'Straight Outta Compton (2015)',\n",
       " 'Manjhi: The Mountain Man (2015)',\n",
       " 'Only the Dead (2015)',\n",
       " 'Spotlight (2015)',\n",
       " 'Under sandet (2015)',\n",
       " 'Airlift (2016)',\n",
       " 'Dunkirk (2017)',\n",
       " 'Taeksi Woonjunsa (2017)',\n",
       " 'The Battleship Island (2017)',\n",
       " 'Darkest Hour (2017)',\n",
       " 'Best of Enemies (2015)',\n",
       " 'The Ghazi Attack (2017)']"
      ]
     },
     "execution_count": 11,
     "metadata": {},
     "output_type": "execute_result"
    }
   ],
   "source": [
    "t.popular_recs_filtered('1', 20, ranked_movies, years=['2015', '2016', '2017', '2018'], genres=['History'])"
   ]
  },
  {
   "cell_type": "code",
   "execution_count": null,
   "metadata": {},
   "outputs": [],
   "source": []
  }
 ],
 "metadata": {
  "kernelspec": {
   "display_name": "Python 3",
   "language": "python",
   "name": "python3"
  },
  "language_info": {
   "codemirror_mode": {
    "name": "ipython",
    "version": 3
   },
   "file_extension": ".py",
   "mimetype": "text/x-python",
   "name": "python",
   "nbconvert_exporter": "python",
   "pygments_lexer": "ipython3",
   "version": "3.8.1"
  }
 },
 "nbformat": 4,
 "nbformat_minor": 2
}
